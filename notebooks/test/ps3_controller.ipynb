{
 "cells": [
  {
   "cell_type": "markdown",
   "id": "a44dc7cc-2aba-4c68-9d14-ff1c992c9624",
   "metadata": {},
   "source": [
    "# PS3 Controller RPI Connection"
   ]
  },
  {
   "cell_type": "markdown",
   "id": "84e778ae-5268-4d3b-be8d-74b541a16cc3",
   "metadata": {},
   "source": [
    "## Linux Bluetooth Stack\n",
    "\n",
    "Read File: **banrc01/ext-doc/bluetooth/Bluetooth_Stack_Linux_OS.pdf**\n",
    "\n",
    "https://www.opensourceforu.com/2015/06/linux-without-wires-the-basics-of-bluetooth/ \\\n",
    "https://naehrdine.blogspot.com/2021/03/bluez-linux-bluetooth-stack-overview.html"
   ]
  },
  {
   "cell_type": "markdown",
   "id": "0e1fd9dc-c507-444a-a246-31f851a90106",
   "metadata": {},
   "source": [
    "### Particularities of PS3 Bluetooth\n",
    "\n",
    "https://pythonhosted.org/triangula/sixaxis.html"
   ]
  },
  {
   "cell_type": "markdown",
   "id": "7af5c2fa-7c77-4f82-8ac5-4d81f04cfc92",
   "metadata": {},
   "source": [
    "Configuring Playstation 3 Controllers\n",
    "\n",
    "If you’re building a robot you will at some point probably want a way to manually drive it around. The Playstation3 controller, also known as the SixAxis, makes for a great option - it connects over bluetooth, has a bundle of different buttons, sticks and motion sensors, and is readily available. You’ll probably google for how to make it work with the Raspberry Pi and then, if your experience is anything like mine, you’ll find that every single online guide is a) a copy of one original document and b) doesn’t work. Having solved all these problems, I thought I’d be nice and write the method down here in the hope that no-one else has to waste the time I’ve just spent on it...\n",
    "A note on pairing\n",
    "\n",
    "One of the reasons the SixAxis isn’t as easy as it could be to use is how pairing works. Normal bluetooth devices will establish a link between the device and the host once, then the host can initiate connection using this previously stored information. In the case of the SixAxis, it’s actually the controller that initiates the process, so we have to do some setup beforehand. We need to tell the controller to which bluetooth host it should attempt to connect, and we need to tell the host (the Pi) that it should allow the controller’s connection.\n",
    "Hardware\n",
    "\n",
    "This guide assumes you’re using a Raspberry Pi (I’m using a Pi 2, but there’s no reason this wouldn’t work with older ones). You’ll also need a USB bluetooth dongle and, obviously, a SixAxis controller. I’ve only tried this with genuine Sony ones, many of the cheaper ones you’ll find online are clones, they should work but YMMV.\n",
    "Bluetooth dongles\n",
    "\n",
    "Some people are finding this guide does not work. I suspect this is down to the bluetooth dongle, having eliminated everything else in the process. The one I’m using is an Asus USB-BT400, it’s tiny and supports all the current Bluetooth standards. If you get this to work with a different dongle can you let me know on twitter at @approx_eng_ and I’ll add it to this list:\n",
    "\n",
    "> Asus USB-BT400\n",
    "\n",
    "Software\n",
    "\n",
    "Note 1 - this assumes you’ve set up git and installed a public key with github, you don’t have to do this but you’ll need to modify some of the git commands below if you haven’t. You can set up public keys using the instructions at https://help.github.com/articles/generating-ssh-keys/#platform-all\n",
    "\n",
    "Note 2 - this is also assuming you’re starting from a clean installation of the latest Jessie based Raspbian. Other distributions may need varying combinations of dev libraries etc. For testing I was using the minimal installation with filename 2015-11-21-raspbian-jessie-lite.zip but these instructions should apply to any recent version. As always, it’s not a bad idea to run sudo apt-get update and sudo apt-get upgrade to get any changes to packages since your distribution was built.\n",
    "\n",
    "You’ll need to install some packages on your Pi first, and enable the bluetooth services:\n",
    "```\n",
    "pi@raspberrypi ~ $ sudo apt-get install bluetooth libbluetooth3 libusb-dev\n",
    "pi@raspberrypi ~ $ sudo systemctl enable bluetooth.service\n",
    "```\n",
    "You also need to add the default user to the bluetooth group:\n",
    "\n",
    "```\n",
    "pi@raspberrypi ~ $ sudo usermod -G bluetooth -a pi\n",
    "```\n",
    "\n",
    "You must now power cycle your Pi. Do not just reboot, actually shut down, pull the power, wait a few seconds and reconnect. This may be overkill, but it’s been the best way I’ve found to consistently have the next steps succeed.\n",
    "Pairing\n",
    "\n",
    "Get and build the command line pairing tool:\n",
    "\n",
    "```\n",
    "pi@raspberrypi ~ $ wget http://www.pabr.org/sixlinux/sixpair.c\n",
    "pi@raspberrypi ~ $ gcc -o sixpair sixpair.c -lusb\n",
    "```\n",
    "\n",
    "Firstly we need to tell the controller the address of the bluetooth dongle. To do this you need to connect the controller to your Pi with a mini-USB cable. Also make sure your Pi is powered from an external supply - the extra power needed when you connect the controllers can be too much for a laptop USB socket and you’ll get random errors or the process won’t work at all. The ‘sixpair’ command, run as root, updates the controller’s bluetooth master address:\n",
    "\n",
    "```\n",
    "pi@raspberrypi ~ $ sudo ./sixpair\n",
    "```\n",
    "\n",
    "Current Bluetooth master: 5c:f3:70:66:5c:e2\n",
    "Setting master bd_addr to 5c:f3:70:66:5c:e2\n",
    "\n",
    "You should see a message indicating that the bluetooth master address on the controller has been changed (you can specify the address to which it should change, the default with no arguments is to use the first installed bluetooth adapter, which is what you want unless for some reason you’ve got more than one plugged in). The controller will now attempt to connect to your bluetooth dongle when you press the PS button (don’t do this just yet, it won’t work). The example above shows that no change has been made, as this particular controller had been paired with the dongle before, but you should see two different addresses - the first is the address the controller was trusting, the second is the one it now trusts.\n",
    "\n",
    "Next we need to configure the bluetooth software on the Pi to accept connections from the controller.\n",
    "\n",
    "Disconnect your controller from the USB port, and run the ‘bluetoothctl’ command as a regular user (you don’t need to be root for this):\n",
    "\n",
    "```\n",
    "pi@raspberrypi ~ $ bluetoothctl\n",
    "[NEW] Controller 5C:F3:70:66:5C:E2 raspberrypi [default]\n",
    "... (other messages may appear here if you have other bluetooth hardware)\n",
    "```\n",
    "\n",
    "Now re-connect your controller with the mini-USB cable. You should see messages in the terminal indicating that something has connected (but don’t worry if you don’t, as long as something useful appears in the next step!)\n",
    "\n",
    "Type ‘devices’ in the terminal. You will see a list of possible devices, including at least your SixAxis controller. You need to take note of the MAC address of the controller for the next step:\n",
    "\n",
    "```\n",
    "[bluetooth]# devices\n",
    "Device 60:38:0E:CC:OC:E3 PLAYSTATION(R)3 Controller\n",
    "... (other devices may appear here)\n",
    "```\n",
    "\n",
    "Type ‘agent on’ and then ‘trust MAC’, replacing MAC with the MAC address you noted in the previous step (they won’t be the same as mine!). Quit the tool once you’re done.\n",
    "\n",
    "```\n",
    "[bluetooth]# agent on\n",
    "Agent registered\n",
    "[bluetooth]# trust 60:38:0E:CC:0C:E3\n",
    "[CHG] Device 60:38:0E:CC:0C:E3 Trusted: yes\n",
    "Changing 60:38:0E:CC:0C:E3 trust succeeded\n",
    "[bluetooth]# quit\n",
    "Agent unregistered\n",
    "[DEL] Controller 5C:F3:70:66:5C:E2\n",
    "\n",
    "Disconnect your controller, you should now be able to connect wirelessly. To check this, first list everything in /dev/input:\n",
    "\n",
    "pi@raspberrypi ~ $ ls /dev/input\n",
    "by-id  by-path  event0  event1  event2  event3  event5  mice  mouse0\n",
    "```\n",
    "\n",
    "Now press the PS button, the lights on the front of the controller should flash for a couple of seconds then stop, leaving a single light on. If you now look again at the contents of /dev/input you should see a new device, probably called something like ‘js0’:\n",
    "\n",
    "```\n",
    "pi@raspberrypi ~ $ ls /dev/input\n",
    "by-id    event0  event2  event4  js0   mouse0\n",
    "by-path  event1  event3  event5  mice\n",
    "```\n",
    "\n",
    "If a new device has appeared here then congratulations, you have successfully paired your dongle and SixAxis controller. This will persist across reboots, so from now on you can just connect by pressing the PS button on the controller. Pressing and holding this button will shut the controller down - at the moment there’s no timeout so be sure to turn the controller off when you’re not going to be using it for a while.\n",
    "Accessing the SixAxis from Python\n",
    "\n",
    "You now have a joystick device in /dev/input, but how do you use it in your Python code?\n",
    "\n",
    "There are two different approaches I’ve tried. You can use PyGame - this has the advantage that you might be using it already (in which case it’s the simplest solution) and it’s already installed in the system Python on your Pi. It has the drawback though that it requires a display - while I’m aware there are workarounds for this they’re not really very satisfactory. The second option is to use the Python bindings for evdev - this is lightweight, but has drawback of being more complex to use and only working on linux, even if you’re on a unix-like system such as OSX you can’t use it whereas PyGame is generally suitable for cross-platform use. Because I only want to run this on the Pi and because I really need it to work cleanly in a headless environment I’ve gone with evdev, but there are arguments for both.\n",
    "\n",
    "Actually using evdev isn’t trivial, the best documentation I have is the code I wrote to handle it. I’ve created a Python class triangula.input.SixAxis and corresponding resource triangula.input.SixAxisResource to make this simpler to work with. The class uses asyncore to poll the evdev device, updating internal state within the object. It also allows you to register button handlers which will be called, handles centering, hot zones (regions in the axis range which clamp to 1.0 or -1.0) and dead zones (regions near the centre point which clamp to 0.0).\n",
    "\n",
    "By way of an example, the following code will connect to the controller (you’ll get an exception if you don’t have one connected) and print out the values of the two analogue sticks:\n",
    "\n",
    "```\n",
    "from triangula.input import SixAxis, SixAxisResource\n",
    "\n",
    "# Button handler, will be bound to the square button later\n",
    "def handler(button):\n",
    "  print 'Button {} pressed'.format(button)\n",
    "\n",
    "# Get a joystick, this will fail unless the SixAxis controller is paired and active\n",
    "# The bind_defaults argument specifies that we should bind actions to the SELECT and START buttons to\n",
    "# centre the controller and reset the calibration respectively.\n",
    "with SixAxisResource(bind_defaults=True) as joystick:\n",
    "    # Register a button handler for the square button\n",
    "    joystick.register_button_handler(handler, SixAxis.BUTTON_SQUARE)\n",
    "    while 1:\n",
    "        # Read the x and y axes of the left hand stick, the right hand stick has axes 2 and 3\n",
    "        x = joystick.axes[0].corrected_value()\n",
    "        y = joystick.axes[1].corrected_value()\n",
    "        print(x,y)\n",
    "```\n",
    "\n",
    "You’re welcome to pick up Triangula’s libraries, they’re uploaded to PyPi semi-regularly (get with ‘pip install triangula’) or from github. In either case you’ll need to install one extra package first, without which the evdev module won’t build:\n",
    "\n",
    "```\n",
    "pi@raspberrypi ~ $ sudo apt-get install libpython2.7-dev\n",
    "```\n",
    "\n",
    "Now you can get Triangula’s code from github and build it to acquire the triangula.input module, you can then use this in your own code (there’s nothing particularly specific to Triangula in it)\n",
    "\n",
    "```\n",
    "pi@raspberrypi ~ $ git clone git@github.com:basebot/triangula.git\n",
    "pi@raspberrypi ~ $ cd triangula/src/python\n",
    "pi@raspberrypi ~/triangula/src/python python setup.py develop\n",
    "```\n",
    "\n",
    "This will set up the libraries in develop mode, creating symbolic links into your python installation (I’m assuming here that you’re using a virtual environment, because you should be - if you’re not you’ll need to run some of these commands as root)\n"
   ]
  },
  {
   "cell_type": "markdown",
   "id": "c9152ced-136f-436c-9ac0-c4c1fc51fac1",
   "metadata": {},
   "source": [
    "## Configuring PS3 on RaspberryPi"
   ]
  },
  {
   "cell_type": "code",
   "execution_count": 3,
   "id": "d27c3b59-d5d3-4a93-9f12-4d5a4c93a70a",
   "metadata": {},
   "outputs": [
    {
     "name": "stdout",
     "output_type": "stream",
     "text": [
      "bluetooth             393216  24 hci_uart,bnep,btbcm\n",
      "ecdh_generic           16384  2 bluetooth\n",
      "rfkill                 32768  6 bluetooth,cfg80211\n"
     ]
    }
   ],
   "source": [
    "# Kernel modules\n",
    "!lsmod  | grep blue"
   ]
  },
  {
   "cell_type": "markdown",
   "id": "3540d387-6113-4099-bf01-3087f440859c",
   "metadata": {},
   "source": [
    "### Bluetooth FrontEnds\n",
    "\n",
    "Exists 2 main console frontends applications to manage bluetooth stack.\n",
    "- **hcitool**: More scriptable. Deprecated? Commication via HW?\n",
    "- **bluetoothclt**: New BlueZ frontend. Interactive. Commication via D-BUS\n",
    "\n",
    "\n",
    "```\n",
    "Because bluetoothctl talks to the Bluetooth daemon via DBus, instead of directly with the hardware like hcitool does. And hcitool usually fails now because the BT daemon has exclusive access.\n",
    "```\n",
    "\n",
    "https://www.linuxquestions.org/questions/programming-9/control-bluetoothctl-with-scripting-4175615328/\n",
    "```\n",
    "echo Restarting bluetooth service.\n",
    "sudo service bluetooth restart\n",
    "\n",
    "coproc bluetoothctl\n",
    "echo -e 'agent on\\nconnect AE:2D:22:00:35:A2\\nexit' >&${COPROC[1]}\n",
    "output=$(cat <&${COPROC[0]})\n",
    "echo $output\n",
    "```"
   ]
  },
  {
   "cell_type": "markdown",
   "id": "0d68f922-fd1a-474e-b84e-1ff7d4366946",
   "metadata": {},
   "source": [
    "### Needed add user to bluetooth group\n",
    "```\n",
    "sudo usermod -a -G bluetooth banshee\n",
    "reboot\n",
    "```"
   ]
  },
  {
   "cell_type": "markdown",
   "id": "df2b7e52-48ab-4255-aaa9-78746e1f015c",
   "metadata": {},
   "source": [
    "### Device Power UP"
   ]
  },
  {
   "cell_type": "code",
   "execution_count": 9,
   "id": "fef807ba-0257-41b9-b7e7-9aa44dae5697",
   "metadata": {},
   "outputs": [
    {
     "name": "stdout",
     "output_type": "stream",
     "text": [
      "0: phy0: Wireless LAN\n",
      "\tSoft blocked: no\n",
      "\tHard blocked: no\n",
      "1: hci0: Bluetooth\n",
      "\tSoft blocked: no\n",
      "\tHard blocked: no\n"
     ]
    }
   ],
   "source": [
    "!rfkill list all"
   ]
  },
  {
   "cell_type": "markdown",
   "id": "45df3fed-69bd-453a-930c-9d8a04dbc943",
   "metadata": {},
   "source": [
    "**TODO**: UP/DOWN device"
   ]
  },
  {
   "cell_type": "markdown",
   "id": "87049ebc-5958-43ec-ad6c-f4704ce4c91c",
   "metadata": {},
   "source": [
    "### Bluetooth Device Info \n",
    "\n",
    "##### Several methods"
   ]
  },
  {
   "cell_type": "code",
   "execution_count": 7,
   "id": "adffc5b1-879c-430f-bf92-04f76a6cd393",
   "metadata": {},
   "outputs": [
    {
     "name": "stdout",
     "output_type": "stream",
     "text": [
      "Devices:\n",
      "\thci0\tB8:27:EB:C9:BF:B7\n"
     ]
    }
   ],
   "source": [
    "!hcitool dev"
   ]
  },
  {
   "cell_type": "code",
   "execution_count": 6,
   "id": "88ee4f43-4d3a-4843-88a6-73eb2bd887c2",
   "metadata": {},
   "outputs": [
    {
     "name": "stdout",
     "output_type": "stream",
     "text": [
      "hci0:\tType: Primary  Bus: UART\n",
      "\tBD Address: B8:27:EB:C9:BF:B7  ACL MTU: 1021:8  SCO MTU: 64:1\n",
      "\tUP RUNNING \n",
      "\tRX bytes:1562 acl:0 sco:0 events:96 errors:0\n",
      "\tTX bytes:2574 acl:0 sco:0 commands:96 errors:0\n",
      "\n"
     ]
    }
   ],
   "source": [
    "!hciconfig"
   ]
  },
  {
   "cell_type": "code",
   "execution_count": 4,
   "id": "d4698998-0075-449b-961d-eb1e810a51ab",
   "metadata": {},
   "outputs": [
    {
     "name": "stdout",
     "output_type": "stream",
     "text": [
      "Agent registered\n",
      "\u001b[0;94m[bluetooth]\u001b[0m# list\n",
      "Controller B8:27:EB:C9:BF:B7 banrc01 [default]\n",
      "\u001b[K;94m[bluetooth]\u001b[0m# "
     ]
    }
   ],
   "source": [
    "!echo 'list' | bluetoothctl"
   ]
  },
  {
   "cell_type": "markdown",
   "id": "8d106765-2a4c-4ba7-8475-6c72dca8c9cf",
   "metadata": {},
   "source": [
    "## SixPair\n",
    "\n",
    "https://github.com/lakkatv/sixpair"
   ]
  },
  {
   "cell_type": "code",
   "execution_count": 16,
   "id": "33a9995f-857b-4bd1-97a1-ce91ec56eb00",
   "metadata": {},
   "outputs": [
    {
     "name": "stdout",
     "output_type": "stream",
     "text": [
      "sixpair/sixpair.c: C source, ASCII text\n",
      "sixpair/sixpair: ELF 32-bit LSB executable, ARM, EABI5 version 1 (SYSV), dynamically linked, interpreter /lib/ld-linux-armhf.so.3, for GNU/Linux 3.2.0, BuildID[sha1]=cefbafaf1819182b960bb784f2fc2e34568ef99f, not stripped\n"
     ]
    }
   ],
   "source": [
    "!mkdir -p sixpair\n",
    "!cp ../../ext-libs/sixpair/sixpair.c sixpair/\n",
    "!file sixpair/sixpair.c\n",
    "\n",
    "!gcc -o sixpair/sixpair sixpair/sixpair.c -lusb\n",
    "!file sixpair/sixpair"
   ]
  },
  {
   "cell_type": "markdown",
   "id": "19a53846-13ca-49fa-9088-d34f44003f83",
   "metadata": {},
   "source": [
    "```\n",
    "sudo ./sixpair \n",
    "Current Bluetooth master: eb:37:ef:55:e2:48\n",
    "Setting master bd_addr to b8:27:eb:c9:bf:b7\n",
    "```"
   ]
  },
  {
   "cell_type": "markdown",
   "id": "118d3f4a-b43a-43e9-a0cc-3ba96ac3ddf7",
   "metadata": {},
   "source": [
    "## **Problems** Thrusting Device"
   ]
  },
  {
   "cell_type": "markdown",
   "id": "2f7b50b2-0114-41b0-8415-aea52b969987",
   "metadata": {},
   "source": [
    "```banshee@banrc01:~ $ sudo bluetoothctl \n",
    "[sudo] password for banshee: \n",
    "Agent registered\n",
    "[NEW] Device 0C:FC:83:F5:92:73 Sony PLAYSTATION(R)3 Controller\n",
    "[DEL] Device 0C:FC:83:F5:92:73 Sony PLAYSTATION(R)3 Controller\n",
    "[bluetooth]# trust 0C:FC:83:F5:92:73\n",
    "Device 0C:FC:83:F5:92:73 not available\n",
    "```\n",
    "\n",
    "Turn bluetoothd to verbose mode:\n",
    "\n",
    "\n",
    "Edit **/etc/systemd/system/bluetooth.target.wants/bluetooth.service**\n",
    "\n",
    "```\n",
    "# Add -d flag\n",
    "ExecStart=/usr/lib/bluetooth/bluetoothd -d\n",
    "```\n",
    "\n",
    "Restart bluetooth daemon\n",
    "```\n",
    "sudo systemctl restart bluetooth.service\n",
    "```\n",
    "\n",
    "Now inspecting error on **/var/log/syslog** why device is deleted after creating\n",
    "\n",
    "```\n",
    "Dec 13 19:28:05 banrc01 bluetoothd[1150]: sixaxis: compatible device connected: Sony PLAYSTATION(R)3 Controller (054C:0268 /sys/devices/platform/soc/3f980000.usb/usb1/1-1/1-1.1/1-1.1.2/1-1.1.2:1.0/0003:054C:0268.0007/hidraw/hidraw0)\n",
    "Dec 13 19:28:05 banrc01 bluetoothd[1150]: src/device.c:device_create() dst 0C:FC:83:F5:92:73\n",
    "Dec 13 19:28:05 banrc01 bluetoothd[1150]: src/device.c:device_new() address 0C:FC:83:F5:92:73\n",
    "Dec 13 19:28:05 banrc01 bluetoothd[1150]: src/device.c:device_new() Creating device /org/bluez/hci0/dev_0C_FC_83_F5_92_73\n",
    "Dec 13 19:28:05 banrc01 bluetoothd[1150]: sixaxis: setting up new device\n",
    "Dec 13 19:28:05 banrc01 bluetoothd[1150]: src/device.c:btd_device_device_set_name() /org/bluez/hci0/dev_0C_FC_83_F5_92_73 Sony PLAYSTATION(R)3 Controller\n",
    "Dec 13 19:28:05 banrc01 bluetoothd[1150]: Authentication attempt without agent\n",
    "Dec 13 19:28:05 banrc01 bluetoothd[1150]: plugins/sixaxis.c:agent_auth_cb() Agent replied negatively, removing temporary device\n",
    "Dec 13 19:28:05 banrc01 bluetoothd[1150]: src/device.c:device_remove() Removing device /org/bluez/hci0/dev_0C_FC_83_F5_92_73\n",
    "Dec 13 19:28:05 banrc01 bluetoothd[1150]: src/device.c:btd_device_unref() Freeing device /org/bluez/hci0/dev_0C_FC_83_F5_92_73\n",
    "Dec 13 19:28:05 banrc01 bluetoothd[1150]: src/device.c:device_free() 0x486ea8\n",
    "```\n",
    "\n",
    "On detail:\n",
    "```\n",
    "plugins/sixaxis.c:agent_auth_cb() Agent replied negatively, removing temporary device\n",
    "```\n"
   ]
  },
  {
   "cell_type": "markdown",
   "id": "3a689cf7-4f84-4897-9871-3d35b67f351d",
   "metadata": {},
   "source": [
    "https://github.com/RetroPie/RetroPie-Setup/pull/2263/commits/017f00f6e15f04b3272ff1abae8742dc4c47b608#diff-293af5b19ba1d1f50c86e8b9b0b1feaf\n",
    "\n",
    "https://github.com/RetroPie/RetroPie-Setup/blob/master/scriptmodules/supplementary/customhidsony/0001-hidsony-gasiafix.diff"
   ]
  },
  {
   "cell_type": "markdown",
   "id": "09df7e82-5a7c-47f5-8636-80b0cf1ac7a3",
   "metadata": {},
   "source": [
    "Alternative to manually patch module hid-sony.\n",
    "Using RetroPie SW only install customhidsont module\n",
    "\n",
    "```\n",
    "Install RetroPie\n",
    "\n",
    "Install the needed packages for the RetroPie setup script:\n",
    "\n",
    "sudo apt install git lsb-release\n",
    "\n",
    "Download the latest RetroPie setup script with\n",
    "\n",
    "cd\n",
    "git clone --depth=1 https://github.com/RetroPie/RetroPie-Setup.git\n",
    "\n",
    "The script is executed with\n",
    "\n",
    "cd RetroPie-Setup\n",
    "chmod +x retropie_setup.sh\n",
    "sudo ./retropie_setup.sh\n",
    "```\n"
   ]
  },
  {
   "cell_type": "markdown",
   "id": "fc95d926-9538-4f81-8e1e-b99be3784cd9",
   "metadata": {},
   "source": [
    "After installing several driver packages from retropie script (sixaxis, pse) the problem **persist**."
   ]
  },
  {
   "cell_type": "markdown",
   "id": "bf57cb35-0eaf-4ddc-bdc2-e730256c48d7",
   "metadata": {},
   "source": [
    "## **Problem SOLVED** Thrusting Device using RetroPie utils\n",
    "\n",
    "After executing RetroPie Script options:\n",
    "\n",
    "```\n",
    "configuration-tools -> sixaxis -> enable\n",
    "configuration-tools -> bluetooth -> pair and connect\n",
    "\n",
    ">>Follow the instructions\n",
    "```\n",
    "\n",
    "Now bluethoohctl shows the device **successfully**.\n",
    "\n",
    "Unplug USB and pressing button automatically connects to gamepad\n",
    "\n",
    "\n",
    "```\n",
    "bluetoothctl \n",
    "Agent registered\n",
    "[CHG] Device 0C:FC:83:F5:92:73 Connected: yes\n",
    "[Sony PLAYSTATION(R)3 Controller]# exit\n",
    "```\n",
    "\n",
    "In this situation the gamepad not sync succesfully. \\\n",
    "But **not opening** bluetoothctl, the gamepad **sync** and one led is showed.\n",
    "\n",
    "\n",
    "**/var/log/syslog**:\n",
    "```\n",
    "Dec 13 20:55:09 banrc01 bluetoothd[600]: src/adapter.c:connected_callback() hci0 device 0C:FC:83:F5:92:73 connected eir_len 5\n",
    "Dec 13 20:55:14 banrc01 bluetoothd[600]: profiles/input/server.c:connect_event_cb() Incoming connection from 0C:FC:83:F5:92:73 on PSM 17\n",
    "Dec 13 20:55:14 banrc01 bluetoothd[600]: profiles/input/device.c:input_device_set_channel() idev 0x1998718 psm 17\n",
    "Dec 13 20:55:14 banrc01 bluetoothd[600]: profiles/input/server.c:confirm_event_cb() \n",
    "Dec 13 20:55:14 banrc01 bluetoothd[600]: profiles/input/server.c:connect_event_cb() Incoming connection from 0C:FC:83:F5:92:73 on PSM 19\n",
    "Dec 13 20:55:14 banrc01 bluetoothd[600]: profiles/input/device.c:input_device_set_channel() idev 0x1998718 psm 19\n",
    "Dec 13 20:55:14 banrc01 kernel: [  599.485742] Bluetooth: HIDP (Human Interface Emulation) ver 1.2\n",
    "Dec 13 20:55:14 banrc01 kernel: [  599.485783] Bluetooth: HIDP socket layer initialized\n",
    "Dec 13 20:55:14 banrc01 bluetoothd[600]: src/service.c:change_state() 0x1995808: device 0C:FC:83:F5:92:73 profile input-hid state changed: disconnected -> connected (0)\n",
    "Dec 13 20:55:14 banrc01 bluetoothd[600]: src/service.c:btd_service_ref() 0x1995808: ref=3\n",
    "Dec 13 20:55:14 banrc01 bluetoothd[600]: plugins/policy.c:service_cb() Added input-hid reconnect 0\n",
    "Dec 13 20:55:14 banrc01 kernel: [  599.492306] sony 0005:054C:0268.0002: unknown main item tag 0x0\n",
    "Dec 13 20:55:14 banrc01 kernel: [  599.515744] input: Sony PLAYSTATION(R)3 Controller Motion Sensors as /devices/platform/soc/3f201000.serial/tty/ttyAMA0/hci0/hci0:11/0005:054C:0268.0002/input/input3\n",
    "Dec 13 20:55:14 banrc01 kernel: [  599.517109] input: Sony PLAYSTATION(R)3 Controller as /devices/platform/soc/3f201000.serial/tty/ttyAMA0/hci0/hci0:11/0005:054C:0268.0002/input/input2\n",
    "Dec 13 20:55:14 banrc01 kernel: [  599.517896] sony 0005:054C:0268.0002: input,hidraw0: BLUETOOTH HID v80.00 Joystick [Sony PLAYSTATION(R)3 Controller] on b8:27:eb:c9:bf:b7\n",
    "Dec 13 20:55:14 banrc01 systemd-udevd[1151]: Process '/usr/bin/jscal-restore /dev/input/js0' failed with exit code 1.\n",
    "Dec 13 20:55:14 banrc01 systemd[1]: Started sixaxis helper (sys/devices/platform/soc/3f201000.serial/tty/ttyAMA0/hci0/hci0:11/0005:054C:0268.0002/input/input2).\n",
    "Dec 13 20:55:14 banrc01 systemd[1]: Invalid unit name \"sixaxis@/dev/input/js0.service\" was escaped as \"sixaxis@-dev-input-js0.service\" (maybe you should use systemd-escape?)\n",
    "Dec 13 20:55:14 banrc01 systemd[1]: sixaxis@sys-devices-platform-soc-3f201000.serial-tty-ttyAMA0-hci0-hci0:11-0005:054C:0268.0002-input-input2.service: Succeeded.\n",
    "Dec 13 20:55:14 banrc01 systemd[1]: Started sixaxis helper (/dev/input/js0).\n",
    "Dec 13 20:55:14 banrc01 systemd[1]: sixaxis@-dev-input-js0.service: Succeeded.\n",
    "Dec 13 20:55:14 banrc01 systemd[1]: Invalid unit name \"sixaxis@/dev/input/event1.service\" was escaped as \"sixaxis@-dev-input-event1.service\" (maybe you should use systemd-escape?)\n",
    "Dec 13 20:55:14 banrc01 systemd[1]: Started sixaxis helper (/dev/input/event1).\n",
    "Dec 13 20:55:14 banrc01 sixaxis-helper.sh[1158]: Calibrating: Sony PLAYSTATION(R)3 Controller (0C:FC:83:F5:92:73)\n",
    "Dec 13 20:55:14 banrc01 sixaxis-helper.sh[1158]: Setting 600 second timeout on: Sony PLAYSTATION(R)3 Controller (0C:FC:83:F5:92:73)\n",
    "```"
   ]
  },
  {
   "cell_type": "markdown",
   "id": "d5d69c00-9446-4524-a837-74fa5119e667",
   "metadata": {},
   "source": [
    "Connecting gamepad with USB shows on syslog the original problem with bluetooth. It appears it's complex to trust with it. Revise internal code of RetroPie to understand.\n",
    "In any case, USB plugged works well, as USB device and recognices as joystick."
   ]
  },
  {
   "cell_type": "markdown",
   "id": "024148b3-9ec6-4a5c-b158-74d53c3f73a5",
   "metadata": {},
   "source": [
    "## Test PS3 gamepad Bluetooth connected"
   ]
  },
  {
   "cell_type": "code",
   "execution_count": 2,
   "id": "55e30065-ac2b-4b36-857e-953e0f955ba1",
   "metadata": {},
   "outputs": [
    {
     "name": "stdout",
     "output_type": "stream",
     "text": [
      "event1\tjs0  mice\n"
     ]
    }
   ],
   "source": [
    "!ls /dev/input/"
   ]
  },
  {
   "cell_type": "markdown",
   "id": "23af89f4-1b59-4f64-81d2-342b4770da7b",
   "metadata": {},
   "source": [
    "```\n",
    "jstest /dev/input/js0 \n",
    "Driver version is 2.1.0.\n",
    "Joystick (Sony PLAYSTATION(R)3 Controller) has 6 axes (X, Y, Z, Rx, Ry, Rz)\n",
    "and 17 buttons (BtnA, BtnB, BtnX, BtnY, BtnTL, BtnTR, BtnTL2, BtnTR2, BtnSelect, BtnStart, BtnMode, BtnThumbL, BtnThumbR, (null), (null), (null), (null)).\n",
    "Testing ... (interrupt to exit)\n",
    "Axes:  0:     0  1:     0  2:-32767  3:     0  4:     0  5:-32767 Buttons:  0:off  1:off  2:off  3:off  4:off  5:off  6:off  7:off  8:off  9:off 10:off 11:off 12:off 13:off 14:off 15:off 16:off\n",
    "```"
   ]
  },
  {
   "cell_type": "markdown",
   "id": "213b2a12-bc31-46f2-9365-c43c4154d530",
   "metadata": {},
   "source": [
    "### Calibration\n",
    "\n",
    "```\n",
    "banshee@banrc01:~ $ jscal -c /dev/input/js0 \n",
    "Joystick has 6 axes and 17 buttons.\n",
    "Correction for axis 0 is none (raw), precision is 0.\n",
    "Correction for axis 1 is none (raw), precision is 0.\n",
    "Correction for axis 2 is none (raw), precision is 0.\n",
    "Correction for axis 3 is none (raw), precision is 0.\n",
    "Correction for axis 4 is none (raw), precision is 0.\n",
    "Correction for axis 5 is none (raw), precision is 0.\n",
    "\n",
    "Calibrating precision: wait and don't touch the joystick.\n",
    "Done. Precision is:                                               128,  128 Axis 4:  128,  128 Axis 5:    8,    8 \n",
    "Axis: 0:     0\n",
    "Axis: 1:     0\n",
    "Axis: 2:     0\n",
    "Axis: 3:     0\n",
    "Axis: 4:     0\n",
    "Axis: 5:     0\n",
    "\n",
    "Move axis 0 to minimum position and push any button.\n",
    "Hold ... OK.                                                                  \n",
    "Move axis 0 to center position and push any button.\n",
    "Hold ... OK.                                                                  \n",
    "Move axis 0 to maximum position and push any button.\n",
    "Hold ... OK.                                                                  \n",
    "Move axis 1 to minimum position and push any button.\n",
    "Hold ... OK.                                                                  \n",
    "Move axis 1 to center position and push any button.\n",
    "Hold ... OK.                                                                  \n",
    "Move axis 1 to maximum position and push any button.\n",
    "Hold ... OK.                                                                  \n",
    "Move axis 2 to minimum position and push any button.\n",
    "Hold ... OK.                                                                  \n",
    "Move axis 2 to center position and push any button.\n",
    "Hold ... OK.                                                                  \n",
    "Move axis 2 to maximum position and push any button.\n",
    "Hold ... OK.                                                                  \n",
    "Move axis 3 to minimum position and push any button.\n",
    "Hold ... OK.                                                                  \n",
    "Move axis 3 to center position and push any button.\n",
    "Hold ... OK.                                                                  \n",
    "Move axis 3 to maximum position and push any button.\n",
    "Hold ... OK.                                                                  \n",
    "Move axis 4 to minimum position and push any button.\n",
    "Hold ... OK.                                                                  \n",
    "Move axis 4 to center position and push any button.\n",
    "Hold ... OK.                                                                  \n",
    "Move axis 4 to maximum position and push any button.\n",
    "Hold ... OK.                                                                  \n",
    "Move axis 5 to minimum position and push any button.\n",
    "Hold ... OK.                                                                  \n",
    "Move axis 5 to center position and push any button.\n",
    "Hold ... OK.                                                                  \n",
    "Move axis 5 to maximum position and push any button.\n",
    "Hold ... OK.                                                                  \n",
    "\n",
    "Setting correction to:\n",
    "Correction for axis 0: broken line, precision: 0.\n",
    "Coeficients: 128, 128, 4400447, 4364671\n",
    "Correction for axis 1: broken line, precision: 0.\n",
    "Coeficients: 129, 129, -4473788, -4436814\n",
    "Correction for axis 2: broken line, precision: 0.\n",
    "Coeficients: 0, 0, 2147483647, 2147483647\n",
    "Correction for axis 3: broken line, precision: 0.\n",
    "Coeficients: 128, 128, 4400447, 4227201\n",
    "Correction for axis 4: broken line, precision: 0.\n",
    "Coeficients: 128, 128, -4549615, -4400447\n",
    "Correction for axis 5: broken line, precision: 0.\n",
    "Coeficients: 0, 0, -2105312, 2147483647\n",
    "```"
   ]
  },
  {
   "cell_type": "markdown",
   "id": "57813adc-62af-44da-ad65-b8560112be25",
   "metadata": {},
   "source": [
    "### Store Calibration\n",
    "\n",
    "```\n",
    "banshee@banrc01:~ $ sudo jscal-store /dev/input/js0 \n",
    "\n",
    "banshee@banrc01:~ $ sudo cat /var/lib/joystick/joystick.state\n",
    "NAME=\"Sony PLAYSTATION(R)3 Controller\"\n",
    "jscal -u 6,0,1,2,3,4,5,17,304,305,307,308,310,311,312,313,314,315,316,317,318,544,545,546,547\n",
    "jscal -s 6,1,0,128,128,4400447,4364671,1,0,129,129,-4473788,-4436814,1,0,0,0,2147483647,2147483647,1,0,128,128,4400447,4227201,1,0,128,128,-4549615,-4400447,1,0,0,0,-2105312,2147483647\n",
    "```\n",
    "\n"
   ]
  },
  {
   "cell_type": "markdown",
   "id": "2f6d0b1f-ad4a-4877-85f9-8c10195ab0e6",
   "metadata": {},
   "source": [
    "## Pygame Joystick Demo\n",
    "\n",
    "https://www.pygame.org/wiki/GettingStarted"
   ]
  },
  {
   "cell_type": "markdown",
   "id": "7b0ea70a-eb57-46d1-9618-69a631676764",
   "metadata": {},
   "source": [
    "```\n",
    "!sudo apt-get install demo\n",
    "!sudo apt-get install libsdl2-2.0-0\n",
    "```"
   ]
  },
  {
   "cell_type": "code",
   "execution_count": 4,
   "id": "df0a0653-0076-4aa9-b598-e6803a1b85e7",
   "metadata": {},
   "outputs": [
    {
     "name": "stdout",
     "output_type": "stream",
     "text": [
      "Sony PLAYSTATION(R)3 Controller\n",
      "<Event(1540-JoyButtonUp {'joy': 0, 'instance_id': 1, 'button': 0})>\n",
      "<Event(1539-JoyButtonDown {'joy': 0, 'instance_id': 1, 'button': 2})>\n",
      "<Event(1540-JoyButtonUp {'joy': 0, 'instance_id': 1, 'button': 2})>\n",
      "<Event(1539-JoyButtonDown {'joy': 0, 'instance_id': 1, 'button': 1})>\n",
      "<Event(1540-JoyButtonUp {'joy': 0, 'instance_id': 1, 'button': 1})>\n",
      "<Event(1536-JoyAxisMotion {'joy': 0, 'instance_id': 1, 'axis': 0, 'value': 0.0})>\n",
      "<Event(1536-JoyAxisMotion {'joy': 0, 'instance_id': 1, 'axis': 0, 'value': -0.33335367900631735})>\n",
      "<Event(1536-JoyAxisMotion {'joy': 0, 'instance_id': 1, 'axis': 0, 'value': -1.000030518509476})>\n",
      "<Event(1536-JoyAxisMotion {'joy': 0, 'instance_id': 1, 'axis': 0, 'value': -0.8564409314249092})>\n",
      "<Event(1536-JoyAxisMotion {'joy': 0, 'instance_id': 1, 'axis': 0, 'value': 0.0})>\n",
      "<Event(1536-JoyAxisMotion {'joy': 0, 'instance_id': 1, 'axis': 1, 'value': 0.0})>\n",
      "<Event(1536-JoyAxisMotion {'joy': 0, 'instance_id': 1, 'axis': 1, 'value': 0.6615497299111911})>\n",
      "<Event(1536-JoyAxisMotion {'joy': 0, 'instance_id': 1, 'axis': 1, 'value': 1.0})>\n",
      "<Event(1536-JoyAxisMotion {'joy': 0, 'instance_id': 1, 'axis': 1, 'value': 0.3640858180486465})>\n",
      "<Event(1536-JoyAxisMotion {'joy': 0, 'instance_id': 1, 'axis': 1, 'value': 0.0})>\n",
      "<Event(1536-JoyAxisMotion {'joy': 0, 'instance_id': 1, 'axis': 1, 'value': -0.815424054689169})>\n",
      "<Event(1536-JoyAxisMotion {'joy': 0, 'instance_id': 1, 'axis': 1, 'value': -1.000030518509476})>\n",
      "<Event(1536-JoyAxisMotion {'joy': 0, 'instance_id': 1, 'axis': 1, 'value': 0.0})>\n",
      "<Event(1536-JoyAxisMotion {'joy': 0, 'instance_id': 1, 'axis': 4, 'value': 0.0})>\n",
      "<Event(1536-JoyAxisMotion {'joy': 0, 'instance_id': 1, 'axis': 4, 'value': 0.23075045014801476})>\n",
      "<Event(1536-JoyAxisMotion {'joy': 0, 'instance_id': 1, 'axis': 4, 'value': 1.0})>\n",
      "<Event(1536-JoyAxisMotion {'joy': 0, 'instance_id': 1, 'axis': 4, 'value': 0.8872035889767144})>\n",
      "<Event(1536-JoyAxisMotion {'joy': 0, 'instance_id': 1, 'axis': 4, 'value': 0.33332316049684135})>\n",
      "<Event(1536-JoyAxisMotion {'joy': 0, 'instance_id': 1, 'axis': 4, 'value': 0.0})>\n",
      "<Event(1536-JoyAxisMotion {'joy': 0, 'instance_id': 1, 'axis': 3, 'value': 0.0})>\n",
      "<Event(1536-JoyAxisMotion {'joy': 0, 'instance_id': 1, 'axis': 3, 'value': 0.35383159886471144})>\n",
      "<Event(1536-JoyAxisMotion {'joy': 0, 'instance_id': 1, 'axis': 3, 'value': 1.0})>\n",
      "<Event(1536-JoyAxisMotion {'joy': 0, 'instance_id': 1, 'axis': 3, 'value': 0.9077120273445844})>\n",
      "<Event(1536-JoyAxisMotion {'joy': 0, 'instance_id': 1, 'axis': 3, 'value': 0.0})>\n",
      "<Event(1536-JoyAxisMotion {'joy': 0, 'instance_id': 1, 'axis': 4, 'value': 0.1076693014313181})>\n",
      "<Event(1536-JoyAxisMotion {'joy': 0, 'instance_id': 1, 'axis': 3, 'value': -0.05642872402111881})>\n",
      "<Event(1536-JoyAxisMotion {'joy': 0, 'instance_id': 1, 'axis': 4, 'value': 0.32306894131290625})>\n",
      "<Event(1536-JoyAxisMotion {'joy': 0, 'instance_id': 1, 'axis': 3, 'value': -0.6615802484206671})>\n",
      "<Event(1536-JoyAxisMotion {'joy': 0, 'instance_id': 1, 'axis': 4, 'value': 0.641041291543321})>\n",
      "<Event(1536-JoyAxisMotion {'joy': 0, 'instance_id': 1, 'axis': 3, 'value': -0.9487594225898007})>\n",
      "<Event(1536-JoyAxisMotion {'joy': 0, 'instance_id': 1, 'axis': 4, 'value': 1.0})>\n",
      "<Event(1536-JoyAxisMotion {'joy': 0, 'instance_id': 1, 'axis': 3, 'value': -1.000030518509476})>\n",
      "<Event(1536-JoyAxisMotion {'joy': 0, 'instance_id': 1, 'axis': 3, 'value': -0.7744071779534287})>\n",
      "<Event(1536-JoyAxisMotion {'joy': 0, 'instance_id': 1, 'axis': 4, 'value': 0.641041291543321})>\n",
      "<Event(1536-JoyAxisMotion {'joy': 0, 'instance_id': 1, 'axis': 3, 'value': 0.0})>\n",
      "<Event(1536-JoyAxisMotion {'joy': 0, 'instance_id': 1, 'axis': 4, 'value': 0.0})>\n",
      "<Event(1539-JoyButtonDown {'joy': 0, 'instance_id': 1, 'button': 3})>\n",
      "<Event(1540-JoyButtonUp {'joy': 0, 'instance_id': 1, 'button': 3})>\n",
      "<Event(1539-JoyButtonDown {'joy': 0, 'instance_id': 1, 'button': 1})>\n",
      "<Event(1539-JoyButtonDown {'joy': 0, 'instance_id': 1, 'button': 2})>\n",
      "<Event(1540-JoyButtonUp {'joy': 0, 'instance_id': 1, 'button': 1})>\n",
      "<Event(1540-JoyButtonUp {'joy': 0, 'instance_id': 1, 'button': 2})>\n",
      "<Event(1539-JoyButtonDown {'joy': 0, 'instance_id': 1, 'button': 4})>\n",
      "<Event(1540-JoyButtonUp {'joy': 0, 'instance_id': 1, 'button': 4})>\n",
      "<Event(1539-JoyButtonDown {'joy': 0, 'instance_id': 1, 'button': 5})>\n",
      "<Event(1540-JoyButtonUp {'joy': 0, 'instance_id': 1, 'button': 5})>\n",
      "<Event(1539-JoyButtonDown {'joy': 0, 'instance_id': 1, 'button': 6})>\n",
      "<Event(1536-JoyAxisMotion {'joy': 0, 'instance_id': 1, 'axis': 2, 'value': -1.000030518509476})>\n",
      "<Event(1536-JoyAxisMotion {'joy': 0, 'instance_id': 1, 'axis': 2, 'value': 1.0})>\n",
      "<Event(1536-JoyAxisMotion {'joy': 0, 'instance_id': 1, 'axis': 2, 'value': -0.39490951261940366})>\n",
      "<Event(1540-JoyButtonUp {'joy': 0, 'instance_id': 1, 'button': 6})>\n",
      "<Event(1536-JoyAxisMotion {'joy': 0, 'instance_id': 1, 'axis': 2, 'value': -1.000030518509476})>\n",
      "<Event(1539-JoyButtonDown {'joy': 0, 'instance_id': 1, 'button': 7})>\n",
      "<Event(1536-JoyAxisMotion {'joy': 0, 'instance_id': 1, 'axis': 5, 'value': -1.000030518509476})>\n",
      "<Event(1536-JoyAxisMotion {'joy': 0, 'instance_id': 1, 'axis': 5, 'value': 1.0})>\n",
      "<Event(1536-JoyAxisMotion {'joy': 0, 'instance_id': 1, 'axis': 3, 'value': 0.11792352061525316})>\n",
      "<Event(1536-JoyAxisMotion {'joy': 0, 'instance_id': 1, 'axis': 3, 'value': 0.4769127475814081})>\n",
      "<Event(1536-JoyAxisMotion {'joy': 0, 'instance_id': 1, 'axis': 3, 'value': 0.8872035889767144})>\n",
      "<Event(1536-JoyAxisMotion {'joy': 0, 'instance_id': 1, 'axis': 3, 'value': 1.0})>\n",
      "<Event(1536-JoyAxisMotion {'joy': 0, 'instance_id': 1, 'axis': 4, 'value': -0.6718344676046022})>\n",
      "<Event(1536-JoyAxisMotion {'joy': 0, 'instance_id': 1, 'axis': 4, 'value': -1.000030518509476})>\n",
      "<Event(1540-JoyButtonUp {'joy': 0, 'instance_id': 1, 'button': 7})>\n",
      "<Event(1536-JoyAxisMotion {'joy': 0, 'instance_id': 1, 'axis': 5, 'value': -1.000030518509476})>\n",
      "<Event(1536-JoyAxisMotion {'joy': 0, 'instance_id': 1, 'axis': 4, 'value': -0.8051698355052339})>\n",
      "<Event(1536-JoyAxisMotion {'joy': 0, 'instance_id': 1, 'axis': 4, 'value': -0.16925565355388042})>\n",
      "<Event(1536-JoyAxisMotion {'joy': 0, 'instance_id': 1, 'axis': 4, 'value': -0.1487472151860103})>\n",
      "<Event(1536-JoyAxisMotion {'joy': 0, 'instance_id': 1, 'axis': 4, 'value': -0.09744560075685904})>\n",
      "<Event(1536-JoyAxisMotion {'joy': 0, 'instance_id': 1, 'axis': 4, 'value': -0.025666066469313638})>\n",
      "<Event(1536-JoyAxisMotion {'joy': 0, 'instance_id': 1, 'axis': 3, 'value': 0.9487289040803247})>\n",
      "<Event(1536-JoyAxisMotion {'joy': 0, 'instance_id': 1, 'axis': 4, 'value': 0.0})>\n",
      "<Event(1536-JoyAxisMotion {'joy': 0, 'instance_id': 1, 'axis': 3, 'value': 0.8564104129154332})>\n",
      "<Event(1536-JoyAxisMotion {'joy': 0, 'instance_id': 1, 'axis': 3, 'value': 0.7846308786278878})>\n",
      "<Event(1536-JoyAxisMotion {'joy': 0, 'instance_id': 1, 'axis': 3, 'value': 0.7641224402600177})>\n",
      "<Event(1536-JoyAxisMotion {'joy': 0, 'instance_id': 1, 'axis': 3, 'value': 0.7435834833826716})>\n",
      "<Event(1536-JoyAxisMotion {'joy': 0, 'instance_id': 1, 'axis': 3, 'value': 0.7230750450148015})>\n",
      "<Event(1536-JoyAxisMotion {'joy': 0, 'instance_id': 1, 'axis': 3, 'value': 0.7025666066469314})>\n",
      "<Event(1536-JoyAxisMotion {'joy': 0, 'instance_id': 1, 'axis': 3, 'value': 0.6820581682790613})>\n",
      "<Event(1536-JoyAxisMotion {'joy': 0, 'instance_id': 1, 'axis': 3, 'value': 0.6615497299111911})>\n",
      "<Event(1536-JoyAxisMotion {'joy': 0, 'instance_id': 1, 'axis': 3, 'value': 0.641041291543321})>\n",
      "<Event(1536-JoyAxisMotion {'joy': 0, 'instance_id': 1, 'axis': 3, 'value': 0.6205023346659749})>\n",
      "<Event(1536-JoyAxisMotion {'joy': 0, 'instance_id': 1, 'axis': 3, 'value': 0.5692312387462997})>\n",
      "<Event(1536-JoyAxisMotion {'joy': 0, 'instance_id': 1, 'axis': 3, 'value': 0.5487228003784295})>\n",
      "<Event(1536-JoyAxisMotion {'joy': 0, 'instance_id': 1, 'axis': 3, 'value': 0.5282143620105594})>\n",
      "<Event(1536-JoyAxisMotion {'joy': 0, 'instance_id': 1, 'axis': 3, 'value': 0.5077059236426893})>\n",
      "<Event(1536-JoyAxisMotion {'joy': 0, 'instance_id': 1, 'axis': 3, 'value': 0.48716696676534316})>\n",
      "<Event(1536-JoyAxisMotion {'joy': 0, 'instance_id': 1, 'axis': 3, 'value': 0.46665852839747307})>\n",
      "<Event(1536-JoyAxisMotion {'joy': 0, 'instance_id': 1, 'axis': 3, 'value': 0.44615009002960293})>\n",
      "<Event(1536-JoyAxisMotion {'joy': 0, 'instance_id': 1, 'axis': 3, 'value': 0.4153874324777978})>\n",
      "<Event(1536-JoyAxisMotion {'joy': 0, 'instance_id': 1, 'axis': 3, 'value': 0.39487899410992766})>\n",
      "<Event(1536-JoyAxisMotion {'joy': 0, 'instance_id': 1, 'axis': 3, 'value': 0.3743400372325816})>\n",
      "<Event(1536-JoyAxisMotion {'joy': 0, 'instance_id': 1, 'axis': 3, 'value': 0.35383159886471144})>\n",
      "<Event(1536-JoyAxisMotion {'joy': 0, 'instance_id': 1, 'axis': 3, 'value': 0.32306894131290625})>\n",
      "<Event(1536-JoyAxisMotion {'joy': 0, 'instance_id': 1, 'axis': 3, 'value': 0.2512894070253609})>\n",
      "<Event(1536-JoyAxisMotion {'joy': 0, 'instance_id': 1, 'axis': 3, 'value': 0.18973357341227454})>\n",
      "<Event(1536-JoyAxisMotion {'joy': 0, 'instance_id': 1, 'axis': 3, 'value': 0.15897091586046938})>\n",
      "<Event(1536-JoyAxisMotion {'joy': 0, 'instance_id': 1, 'axis': 3, 'value': 0.1282082583086642})>\n",
      "<Event(1536-JoyAxisMotion {'joy': 0, 'instance_id': 1, 'axis': 3, 'value': 0.07690664387951293})>\n",
      "<Event(1536-JoyAxisMotion {'joy': 0, 'instance_id': 1, 'axis': 3, 'value': 0.015381328775902585})>\n",
      "<Event(1536-JoyAxisMotion {'joy': 0, 'instance_id': 1, 'axis': 3, 'value': 0.0})>\n",
      "<Event(1539-JoyButtonDown {'joy': 0, 'instance_id': 1, 'button': 7})>\n",
      "<Event(1536-JoyAxisMotion {'joy': 0, 'instance_id': 1, 'axis': 5, 'value': 1.0})>\n",
      "<Event(1536-JoyAxisMotion {'joy': 0, 'instance_id': 1, 'axis': 3, 'value': 0.08716086306344799})>\n",
      "<Event(1536-JoyAxisMotion {'joy': 0, 'instance_id': 1, 'axis': 3, 'value': 0.30256050294503617})>\n",
      "<Event(1536-JoyAxisMotion {'joy': 0, 'instance_id': 1, 'axis': 3, 'value': 0.3743400372325816})>\n",
      "<Event(1536-JoyAxisMotion {'joy': 0, 'instance_id': 1, 'axis': 3, 'value': 0.42564165166173284})>\n",
      "<Event(1536-JoyAxisMotion {'joy': 0, 'instance_id': 1, 'axis': 3, 'value': 0.5179601428266244})>\n",
      "<Event(1536-JoyAxisMotion {'joy': 0, 'instance_id': 1, 'axis': 3, 'value': 0.5999938962981048})>\n",
      "<Event(1536-JoyAxisMotion {'joy': 0, 'instance_id': 1, 'axis': 3, 'value': 0.6615497299111911})>\n",
      "<Event(1536-JoyAxisMotion {'joy': 0, 'instance_id': 1, 'axis': 3, 'value': 0.6820581682790613})>\n",
      "<Event(1536-JoyAxisMotion {'joy': 0, 'instance_id': 1, 'axis': 3, 'value': 0.7025666066469314})>\n",
      "<Event(1536-JoyAxisMotion {'joy': 0, 'instance_id': 1, 'axis': 3, 'value': 0.7128208258308664})>\n",
      "<Event(1536-JoyAxisMotion {'joy': 0, 'instance_id': 1, 'axis': 3, 'value': 0.7230750450148015})>\n",
      "<Event(1536-JoyAxisMotion {'joy': 0, 'instance_id': 1, 'axis': 3, 'value': 0.7025666066469314})>\n",
      "<Event(1540-JoyButtonUp {'joy': 0, 'instance_id': 1, 'button': 7})>\n",
      "<Event(1536-JoyAxisMotion {'joy': 0, 'instance_id': 1, 'axis': 3, 'value': 0.15897091586046938})>\n",
      "<Event(1536-JoyAxisMotion {'joy': 0, 'instance_id': 1, 'axis': 5, 'value': -1.000030518509476})>\n",
      "<Event(1536-JoyAxisMotion {'joy': 0, 'instance_id': 1, 'axis': 3, 'value': 0.0})>\n",
      "Free pygame\n"
     ]
    }
   ],
   "source": [
    "import sys\n",
    "import pygame\n",
    "from pygame.locals import *\n",
    "\n",
    "pygame.init()\n",
    "pygame.joystick.init()\n",
    "\n",
    "joysticks = [pygame.joystick.Joystick(i) for i in range(pygame.joystick.get_count())]\n",
    "for joystick in joysticks:\n",
    "    print(joystick.get_name())\n",
    "    \n",
    "try:\n",
    "    while True:\n",
    "        for event in pygame.event.get():\n",
    "            if event.type == JOYBUTTONDOWN:\n",
    "                print(event)\n",
    "            if event.type == JOYBUTTONUP:\n",
    "                print(event)\n",
    "            if event.type == JOYAXISMOTION:\n",
    "                print(event)\n",
    "            if event.type == JOYHATMOTION:\n",
    "                print(event)\n",
    "            if event.type == JOYDEVICEADDED:\n",
    "                joysticks = [pygame.joystick.Joystick(i) for i in range(pygame.joystick.get_count())]\n",
    "                for joystick in joysticks:\n",
    "                    print(joystick.get_name())\n",
    "            if event.type == JOYDEVICEREMOVED:\n",
    "                joysticks = [pygame.joystick.Joystick(i) for i in range(pygame.joystick.get_count())]\n",
    "            if event.type == QUIT:\n",
    "                pygame.quit()\n",
    "                sys.exit()\n",
    "            if event.type == KEYDOWN:\n",
    "                if event.key == K_ESCAPE:\n",
    "                    pygame.quit()\n",
    "                    sys.exit()\n",
    "except KeyboardInterrupt:\n",
    "    pygame.quit()\n",
    "    print('Free pygame')"
   ]
  },
  {
   "cell_type": "code",
   "execution_count": null,
   "id": "72fa8a33-d43f-4e87-b140-75c0513c04b9",
   "metadata": {},
   "outputs": [],
   "source": []
  }
 ],
 "metadata": {
  "kernelspec": {
   "display_name": "Python 3 (ipykernel)",
   "language": "python",
   "name": "python3"
  },
  "language_info": {
   "codemirror_mode": {
    "name": "ipython",
    "version": 3
   },
   "file_extension": ".py",
   "mimetype": "text/x-python",
   "name": "python",
   "nbconvert_exporter": "python",
   "pygments_lexer": "ipython3",
   "version": "3.7.3"
  }
 },
 "nbformat": 4,
 "nbformat_minor": 5
}
