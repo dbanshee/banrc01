{
 "cells": [
  {
   "cell_type": "markdown",
   "id": "7aac6042-6b05-40a2-8e88-ac2102988bf4",
   "metadata": {},
   "source": [
    "# LCD 16x2"
   ]
  },
  {
   "cell_type": "code",
   "execution_count": 4,
   "id": "6bfe21d6-452d-4fd2-9c49-dbb8b78e94ee",
   "metadata": {},
   "outputs": [
    {
     "name": "stdout",
     "output_type": "stream",
     "text": [
      "[sudo] password for banshee: \n"
     ]
    }
   ],
   "source": [
    "!sudo raspi-config\n",
    "# Enable i2c interfacing\n",
    "\n",
    "#sudo vim /etc/modules\n",
    "#...\n",
    "#i2c-bcm2708\n",
    "#i2c-dev"
   ]
  },
  {
   "cell_type": "code",
   "execution_count": null,
   "id": "4d7b7333-f2d7-4ec6-bc41-1bab1e66398a",
   "metadata": {},
   "outputs": [],
   "source": [
    "!sudo apt-get install python-smbus i2c-tools"
   ]
  },
  {
   "cell_type": "code",
   "execution_count": null,
   "id": "e2fb9113-d424-4b37-8d3f-7ae4bac45a70",
   "metadata": {},
   "outputs": [],
   "source": [
    "!sudo usermod -a -G i2c banshee"
   ]
  },
  {
   "cell_type": "code",
   "execution_count": 1,
   "id": "a4d0631d-f683-4cc2-b882-90ad4db14bfc",
   "metadata": {},
   "outputs": [
    {
     "name": "stdout",
     "output_type": "stream",
     "text": [
      "     0  1  2  3  4  5  6  7  8  9  a  b  c  d  e  f\n",
      "00:          -- -- -- -- -- -- -- -- -- -- -- -- -- \n",
      "10: -- -- -- -- -- -- -- -- -- -- -- -- -- -- -- -- \n",
      "20: -- -- -- -- -- -- -- 27 -- -- -- -- -- -- -- -- \n",
      "30: -- -- -- -- -- -- -- -- -- -- -- -- -- -- -- -- \n",
      "40: -- -- -- -- -- -- -- -- -- -- -- -- -- -- -- -- \n",
      "50: -- -- -- -- -- -- -- -- -- -- -- -- -- -- -- -- \n",
      "60: -- -- -- -- -- -- -- -- -- -- -- -- -- -- -- -- \n",
      "70: -- -- -- -- -- -- -- --                         \n"
     ]
    }
   ],
   "source": [
    "!i2cdetect -y 1\n",
    "\n",
    "#     0  1  2  3  4  5  6  7  8  9  a  b  c  d  e  f\n",
    "#00:          -- -- -- -- -- -- -- -- -- -- -- -- -- \n",
    "#10: -- -- -- -- -- -- -- -- -- -- -- -- -- -- -- -- \n",
    "#20: -- -- -- -- -- -- -- 27 -- -- -- -- -- -- -- -- \n",
    "#30: -- -- -- -- -- -- -- -- -- -- -- -- -- -- -- -- \n",
    "#40: -- -- -- -- -- -- -- -- -- -- -- -- -- -- -- -- \n",
    "#50: -- -- -- -- -- -- -- -- -- -- -- -- -- -- -- -- \n",
    "#60: -- -- -- -- -- -- -- -- -- -- -- -- -- -- -- -- \n",
    "#70: -- -- -- -- -- -- -- --  "
   ]
  },
  {
   "cell_type": "code",
   "execution_count": 1,
   "id": "f38ca49d-bf2c-40eb-bae0-73120138ed34",
   "metadata": {},
   "outputs": [],
   "source": [
    "# -*- coding: utf-8 -*-\n",
    "# Original code found at:\n",
    "# https://gist.github.com/DenisFromHR/cc863375a6e19dce359d\n",
    "\n",
    "\"\"\"\n",
    "Compiled, mashed and generally mutilated 2014-2015 by Denis Pleic\n",
    "Made available under GNU GENERAL PUBLIC LICENSE\n",
    "\n",
    "# Modified Python I2C library for Raspberry Pi\n",
    "# as found on http://www.recantha.co.uk/blog/?p=4849\n",
    "# Joined existing 'i2c_lib.py' and 'lcddriver.py' into a single library\n",
    "# added bits and pieces from various sources\n",
    "# By DenisFromHR (Denis Pleic)\n",
    "# 2015-02-10, ver 0.1\n",
    "\n",
    "\"\"\"\n",
    "\n",
    "# i2c bus (0 -- original Pi, 1 -- Rev 2 Pi)\n",
    "I2CBUS = 1\n",
    "\n",
    "# LCD Address\n",
    "ADDRESS = 0x27\n",
    "\n",
    "import smbus\n",
    "from time import sleep\n",
    "\n",
    "class i2c_device:\n",
    "    def __init__(self, addr, port=I2CBUS):\n",
    "        self.addr = addr\n",
    "        self.bus = smbus.SMBus(port)\n",
    "\n",
    "    # Write a single command\n",
    "    def write_cmd(self, cmd):\n",
    "        self.bus.write_byte(self.addr, cmd)\n",
    "        sleep(0.0001)\n",
    "\n",
    "    # Write a command and argument\n",
    "    def write_cmd_arg(self, cmd, data):\n",
    "        self.bus.write_byte_data(self.addr, cmd, data)\n",
    "        sleep(0.0001)\n",
    "\n",
    "    # Write a block of data\n",
    "    def write_block_data(self, cmd, data):\n",
    "        self.bus.write_block_data(self.addr, cmd, data)\n",
    "        sleep(0.0001)\n",
    "\n",
    "    # Read a single byte\n",
    "    def read(self):\n",
    "        return self.bus.read_byte(self.addr)\n",
    "\n",
    "    # Read\n",
    "    def read_data(self, cmd):\n",
    "        return self.bus.read_byte_data(self.addr, cmd)\n",
    "\n",
    "    # Read a block of data\n",
    "    def read_block_data(self, cmd):\n",
    "        return self.bus.read_block_data(self.addr, cmd)\n",
    "\n",
    "\n",
    "# commands\n",
    "LCD_CLEARDISPLAY = 0x01\n",
    "LCD_RETURNHOME = 0x02\n",
    "LCD_ENTRYMODESET = 0x04\n",
    "LCD_DISPLAYCONTROL = 0x08\n",
    "LCD_CURSORSHIFT = 0x10\n",
    "LCD_FUNCTIONSET = 0x20\n",
    "LCD_SETCGRAMADDR = 0x40\n",
    "LCD_SETDDRAMADDR = 0x80\n",
    "\n",
    "# flags for display entry mode\n",
    "LCD_ENTRYRIGHT = 0x00\n",
    "LCD_ENTRYLEFT = 0x02\n",
    "LCD_ENTRYSHIFTINCREMENT = 0x01\n",
    "LCD_ENTRYSHIFTDECREMENT = 0x00\n",
    "\n",
    "# flags for display on/off control\n",
    "LCD_DISPLAYON = 0x04\n",
    "LCD_DISPLAYOFF = 0x00\n",
    "LCD_CURSORON = 0x02\n",
    "LCD_CURSOROFF = 0x00\n",
    "LCD_BLINKON = 0x01\n",
    "LCD_BLINKOFF = 0x00\n",
    "\n",
    "# flags for display/cursor shift\n",
    "LCD_DISPLAYMOVE = 0x08\n",
    "LCD_CURSORMOVE = 0x00\n",
    "LCD_MOVERIGHT = 0x04\n",
    "LCD_MOVELEFT = 0x00\n",
    "\n",
    "# flags for function set\n",
    "LCD_8BITMODE = 0x10\n",
    "LCD_4BITMODE = 0x00\n",
    "LCD_2LINE = 0x08\n",
    "LCD_1LINE = 0x00\n",
    "LCD_5x10DOTS = 0x04\n",
    "LCD_5x8DOTS = 0x00\n",
    "\n",
    "# flags for backlight control\n",
    "LCD_BACKLIGHT = 0x08\n",
    "LCD_NOBACKLIGHT = 0x00\n",
    "\n",
    "En = 0b00000100 # Enable bit\n",
    "Rw = 0b00000010 # Read/Write bit\n",
    "Rs = 0b00000001 # Register select bit\n",
    "\n",
    "class lcd:\n",
    "    #initializes objects and lcd\n",
    "    def __init__(self):\n",
    "        self.lcd_device = i2c_device(ADDRESS)\n",
    "\n",
    "        self.lcd_write(0x03)\n",
    "        self.lcd_write(0x03)\n",
    "        self.lcd_write(0x03)\n",
    "        self.lcd_write(0x02)\n",
    "\n",
    "        self.lcd_write(LCD_FUNCTIONSET | LCD_2LINE | LCD_5x8DOTS | LCD_4BITMODE)\n",
    "        self.lcd_write(LCD_DISPLAYCONTROL | LCD_DISPLAYON)\n",
    "        self.lcd_write(LCD_CLEARDISPLAY)\n",
    "        self.lcd_write(LCD_ENTRYMODESET | LCD_ENTRYLEFT)\n",
    "        sleep(0.2)\n",
    "\n",
    "\n",
    "    # clocks EN to latch command\n",
    "    def lcd_strobe(self, data):\n",
    "        self.lcd_device.write_cmd(data | En | LCD_BACKLIGHT)\n",
    "        sleep(.0005)\n",
    "        self.lcd_device.write_cmd(((data & ~En) | LCD_BACKLIGHT))\n",
    "        sleep(.0001)\n",
    "\n",
    "    def lcd_write_four_bits(self, data):\n",
    "        self.lcd_device.write_cmd(data | LCD_BACKLIGHT)\n",
    "        self.lcd_strobe(data)\n",
    "\n",
    "    # write a command to lcd\n",
    "    def lcd_write(self, cmd, mode=0):\n",
    "        self.lcd_write_four_bits(mode | (cmd & 0xF0))\n",
    "        self.lcd_write_four_bits(mode | ((cmd << 4) & 0xF0))\n",
    "\n",
    "    # write a character to lcd (or character rom) 0x09: backlight | RS=DR<\n",
    "    # works!\n",
    "    def lcd_write_char(self, charvalue, mode=1):\n",
    "        self.lcd_write_four_bits(mode | (charvalue & 0xF0))\n",
    "        self.lcd_write_four_bits(mode | ((charvalue << 4) & 0xF0))\n",
    "  \n",
    "    # put string function with optional char positioning\n",
    "    def lcd_display_string(self, string, line=1, pos=0):\n",
    "        if line == 1:\n",
    "            pos_new = pos\n",
    "        elif line == 2:\n",
    "            pos_new = 0x40 + pos\n",
    "        elif line == 3:\n",
    "            pos_new = 0x14 + pos\n",
    "        elif line == 4:\n",
    "            pos_new = 0x54 + pos\n",
    "\n",
    "        self.lcd_write(0x80 + pos_new)\n",
    "\n",
    "        for char in string:\n",
    "            self.lcd_write(ord(char), Rs)\n",
    "\n",
    "    # clear lcd and set to home\n",
    "    def lcd_clear(self):\n",
    "        self.lcd_write(LCD_CLEARDISPLAY)\n",
    "        self.lcd_write(LCD_RETURNHOME)\n",
    "\n",
    "    # define backlight on/off (lcd.backlight(1); off= lcd.backlight(0)\n",
    "    def backlight(self, state): # for state, 1 = on, 0 = off\n",
    "        if state == 1:\n",
    "            self.lcd_device.write_cmd(LCD_BACKLIGHT)\n",
    "        elif state == 0:\n",
    "            self.lcd_device.write_cmd(LCD_NOBACKLIGHT)\n",
    "\n",
    "    # add custom characters (0 - 7)\n",
    "    def lcd_load_custom_chars(self, fontdata):\n",
    "        self.lcd_write(0x40);\n",
    "        for char in fontdata:\n",
    "            for line in char:\n",
    "                self.lcd_write_char(line)         "
   ]
  },
  {
   "cell_type": "code",
   "execution_count": null,
   "id": "9f616959-9cee-4e6f-bf3e-01fdc2521379",
   "metadata": {},
   "outputs": [],
   "source": [
    "#import I2C_LCD_driver\n",
    "from time import *\n",
    "\n",
    "#mylcd = I2C_LCD_driver.lcd()\n",
    "mylcd = lcd()\n",
    "\n",
    "\n",
    "mylcd.lcd_display_string(\"BanRC 01 \", 1)\n",
    "mylcd.lcd_display_string(\"Work in Progress \", 2)"
   ]
  },
  {
   "cell_type": "markdown",
   "id": "82268c8e-1d87-4152-8251-5aeba0b3318b",
   "metadata": {},
   "source": [
    "## Import from local Lib"
   ]
  },
  {
   "cell_type": "code",
   "execution_count": 1,
   "id": "36c4f1f5-5026-4ada-97cf-58a0fc743e0f",
   "metadata": {},
   "outputs": [
    {
     "name": "stdout",
     "output_type": "stream",
     "text": [
      "['/usr/local/git/banrc01/notebooks/test/../../src/rpi/lib', '/usr/local/git/banrc01/notebooks/test', '/usr/lib/python37.zip', '/usr/lib/python3.7', '/usr/lib/python3.7/lib-dynload', '', '/usr/local/lib/python3.7/dist-packages', '/usr/lib/python3/dist-packages', '/usr/local/lib/python3.7/dist-packages/IPython/extensions', '/home/banshee/.ipython']\n"
     ]
    }
   ],
   "source": [
    "import sys  \n",
    "import os\n",
    "sys.path.insert(0, os.getcwd() + '/../../src/rpi/lib')\n",
    "\n",
    "print(sys.path)"
   ]
  },
  {
   "cell_type": "code",
   "execution_count": 2,
   "id": "55f96721-79b7-459f-9c61-ebd2b56e137a",
   "metadata": {},
   "outputs": [],
   "source": [
    "import i2c_lcd_driver\n",
    "mylcd = i2c_lcd_driver.lcd_driver.lcd()"
   ]
  },
  {
   "cell_type": "code",
   "execution_count": 7,
   "id": "a02594f2-b327-42d5-98f9-2b51c24b579b",
   "metadata": {},
   "outputs": [
    {
     "name": "stdout",
     "output_type": "stream",
     "text": [
      "CPU times: user 25 µs, sys: 9 µs, total: 34 µs\n",
      "Wall time: 67 µs\n"
     ]
    }
   ],
   "source": [
    "%time\n",
    "mylcd.lcd_display_string(\"BanRC 03 \", 1)\n",
    "mylcd.lcd_display_string(\"Work in Progress \", 2)"
   ]
  },
  {
   "cell_type": "code",
   "execution_count": null,
   "id": "cc90bd6e-61af-4331-bee1-f932ff9600e1",
   "metadata": {},
   "outputs": [],
   "source": [
    "from time import sleep\n",
    "\n",
    "while(True):\n",
    "    load=os.system(\"uptime | awk '{print $8}'\")\n",
    "    mylcd.lcd_clear()\n",
    "    mylcd.lcd_display_string(\"BanRC 02 \", 1)\n",
    "    mylcd.lcd_display_string(\"Load : \" + str(load), 2)\n",
    "    sleep(1)"
   ]
  }
 ],
 "metadata": {
  "kernelspec": {
   "display_name": "Python 3 (ipykernel)",
   "language": "python",
   "name": "python3"
  },
  "language_info": {
   "codemirror_mode": {
    "name": "ipython",
    "version": 3
   },
   "file_extension": ".py",
   "mimetype": "text/x-python",
   "name": "python",
   "nbconvert_exporter": "python",
   "pygments_lexer": "ipython3",
   "version": "3.7.3"
  }
 },
 "nbformat": 4,
 "nbformat_minor": 5
}
