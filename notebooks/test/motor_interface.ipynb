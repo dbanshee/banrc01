{
 "cells": [
  {
   "cell_type": "markdown",
   "id": "68867281-d7d5-47d7-8b27-43d87f48c7e7",
   "metadata": {},
   "source": [
    "# Basic Motors Interface\n",
    "\n",
    "iPyWidget Doc : <https://ipywidgets.readthedocs.io/en/latest/>\n",
    "\n",
    "Widget List : <https://ipywidgets.readthedocs.io/en/latest/examples/Widget%20List.html>"
   ]
  },
  {
   "cell_type": "code",
   "execution_count": null,
   "id": "3fa57197-60bf-4eda-8663-eb069c9c6bb5",
   "metadata": {},
   "outputs": [],
   "source": [
    "!sudo pip3 install ipywidgets\n",
    "!sudo jupyter nbextension enable --py widgetsnbextension"
   ]
  },
  {
   "cell_type": "code",
   "execution_count": 31,
   "id": "0c1b3af3-5aaf-4b63-8bf5-8710682b76e2",
   "metadata": {},
   "outputs": [],
   "source": [
    "import ipywidgets as widgets"
   ]
  },
  {
   "cell_type": "code",
   "execution_count": 27,
   "id": "7f0f555f-0c19-4c94-81d4-e605f2f85353",
   "metadata": {},
   "outputs": [
    {
     "name": "stdout",
     "output_type": "stream",
     "text": [
      "Setup a handler to be called when a trait changes.\n",
      "\n",
      "        This is used to setup dynamic notifications of trait changes.\n",
      "\n",
      "        Parameters\n",
      "        ----------\n",
      "        handler : callable\n",
      "            A callable that is called when a trait changes. Its\n",
      "            signature should be ``handler(change)``, where ``change`` is a\n",
      "            dictionary. The change dictionary at least holds a 'type' key.\n",
      "            * ``type``: the type of notification.\n",
      "            Other keys may be passed depending on the value of 'type'. In the\n",
      "            case where type is 'change', we also have the following keys:\n",
      "            * ``owner`` : the HasTraits instance\n",
      "            * ``old`` : the old value of the modified trait attribute\n",
      "            * ``new`` : the new value of the modified trait attribute\n",
      "            * ``name`` : the name of the modified trait attribute.\n",
      "        names : list, str, All\n",
      "            If names is All, the handler will apply to all traits.  If a list\n",
      "            of str, handler will apply to all names in the list.  If a\n",
      "            str, the handler will apply just to that name.\n",
      "        type : str, All (default: 'change')\n",
      "            The type of notification to filter by. If equal to All, then all\n",
      "            notifications are passed to the observe handler.\n",
      "        \n"
     ]
    }
   ],
   "source": [
    "print(widgets.Widget.observe.__doc__)"
   ]
  },
  {
   "cell_type": "code",
   "execution_count": 34,
   "id": "3c2c921d-f01b-466e-9ce8-afb76889b4fb",
   "metadata": {},
   "outputs": [
    {
     "data": {
      "application/vnd.jupyter.widget-view+json": {
       "model_id": "f7521f225e274827bfeb727fc7f881a3",
       "version_major": 2,
       "version_minor": 0
      },
      "text/plain": [
       "VBox(children=(FloatSlider(value=0.0, description='Engine Speed', layout=Layout(height='30px', width='50%'), m…"
      ]
     },
     "metadata": {},
     "output_type": "display_data"
    }
   ],
   "source": [
    "style = {'description_width': 'initial'}\n",
    "engine_speed_widget = widgets.FloatSlider(description= 'Engine Speed', style=style, min=0, max=10, step=0.1, layout=widgets.Layout(width='50%',height='30px'))\n",
    "servo_position_widget = widgets.FloatSlider(description='Servo Position', style=style, min=-1, max=1, step=0.01, value=0, layout=widgets.Layout(width='50%', height='30px'))\n",
    "\n",
    "engine_reset_button = widgets.Button(description='Engine Reset')\n",
    "servo_reset_widget = widgets.Button(description='Servo Reset')\n",
    "\n",
    "\n",
    "output = widgets.Output()\n",
    "def on_engine_speed_value_change(change):\n",
    "    #with output:\n",
    "        print(change['new'])\n",
    "engine_speed_widget.observe(on_engine_speed_value_change, names='value')\n",
    "\n",
    "def on_reset_engine_clicked(b):\n",
    "   # with output:\n",
    "        engine_speed_widget.value = 0\n",
    "        print(\"Engine Reset.\")\n",
    "engine_reset_button.on_click(on_reset_engine_clicked)   \n",
    "\n",
    "def on_reset_servo_clicked(b):\n",
    "    #with output:\n",
    "        servo_position_widget.value = 0\n",
    "        print(\"Servo Reset.\")\n",
    "servo_reset_widget.on_click(on_reset_servo_clicked) \n",
    "\n",
    "engine_widget = widgets.VBox([\n",
    "    engine_speed_widget,\n",
    "    servo_position_widget,\n",
    "    widgets.HBox([engine_reset_button, servo_reset_widget])\n",
    "])\n",
    "display(engine_widget)"
   ]
  }
 ],
 "metadata": {
  "kernelspec": {
   "display_name": "Python 3 (ipykernel)",
   "language": "python",
   "name": "python3"
  },
  "language_info": {
   "codemirror_mode": {
    "name": "ipython",
    "version": 3
   },
   "file_extension": ".py",
   "mimetype": "text/x-python",
   "name": "python",
   "nbconvert_exporter": "python",
   "pygments_lexer": "ipython3",
   "version": "3.7.3"
  }
 },
 "nbformat": 4,
 "nbformat_minor": 5
}
