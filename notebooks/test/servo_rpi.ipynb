{
 "cells": [
  {
   "cell_type": "markdown",
   "id": "c803e974-ffdb-43c2-aa5e-178d4c3c2d2f",
   "metadata": {},
   "source": [
    "### RPI3B pinout\n",
    "\n",
    "<div style=\"text-align:center;\"><img src=\"images/rpi3bplus_pinout.png\"  width=\"300\"/></div>\n",
    "<br/>\n",
    "\n",
    "<div style=\"text-align:center;\"><img src=\"images/pwm_servomotor.png\"  width=\"300\"/></div>"
   ]
  },
  {
   "cell_type": "code",
   "execution_count": 3,
   "id": "2f61d1e3-ac77-4c27-9da1-981403582940",
   "metadata": {},
   "outputs": [
    {
     "name": "stdout",
     "output_type": "stream",
     "text": [
      "[sudo] password for banshee: \n"
     ]
    }
   ],
   "source": [
    "!sudo usermod -a -G gpio banshee"
   ]
  },
  {
   "cell_type": "markdown",
   "id": "783ca849-40be-480e-bbb2-e18b582efc12",
   "metadata": {},
   "source": [
    "## Library RPI.GPIO  \n",
    "\n",
    "Main library searching for PWM control with RPI (an important bug described bellow)\n",
    "<https://sourceforge.net/p/raspberry-gpio-python/wiki/TechRef/>\n"
   ]
  },
  {
   "cell_type": "markdown",
   "id": "2fcf22e4-f0d1-4d52-b8f9-be341941289f",
   "metadata": {},
   "source": [
    "## Test 1 PWM\n",
    "\n",
    "Basic setting freq and cycle."
   ]
  },
  {
   "cell_type": "code",
   "execution_count": 1,
   "id": "84b0ed31-4ac9-4f58-9328-117aea3b51f6",
   "metadata": {},
   "outputs": [
    {
     "name": "stdout",
     "output_type": "stream",
     "text": [
      "Version : 0.7.0\n",
      "Cleaned\n"
     ]
    }
   ],
   "source": [
    "import RPi.GPIO as GPIO\n",
    "import time\n",
    "\n",
    "print('Version : ' + GPIO.VERSION)\n",
    "\n",
    "servoPIN = 18\n",
    "GPIO.setmode(GPIO.BCM)\n",
    "GPIO.setup(servoPIN, GPIO.OUT)\n",
    "p = GPIO.PWM(servoPIN, 50) # GPIO 18 for PWM with 10Hz\n",
    "p.start(75) \n",
    "try:\n",
    "    time.sleep(1000)\n",
    "except KeyboardInterrupt:\n",
    "    None\n",
    "\n",
    "p.stop()\n",
    "GPIO.cleanup()\n",
    "print('Cleaned')"
   ]
  },
  {
   "cell_type": "markdown",
   "id": "15f93de6-9d87-4d53-a5fa-f00521dec2e8",
   "metadata": {},
   "source": [
    "### **BUG** RPI.GPIO\n",
    "\n",
    "Something weird is happening here. The first the program runs well, generating a wave with desired freq. In the second execution and avove (watching with oscilloscope) the weave has a **high freq (300-800Hz)**. Appears to be a bug with the **RPI.GPIO** library and **stop** function as I found at <https://sourceforge.net/p/raspberry-gpio-python/tickets/94/> and <https://forums.raspberrypi.com/viewtopic.php?t=277137>.\n",
    "\n",
    "After a kernel restart the programs runs well.\n",
    "\n",
    "<code>\n",
    "If I remember correctly there was a bug in the RPi.GPIO code that meant once you use p.stop() as in your code the PWM wont work again till you reboot your pi.\n",
    "I guess this never got fixed. Instead of stopping the PWM with p.stop() just set a p.ChangeDutyCycle(0) that will stop the servo from moving and you can then set another value when you want to start it moving again.\n",
    "</code>\n",
    "<br/\n",
    "\n",
    "Alternative Version possibly fixed problem:\n",
    "<https://github.com/wuestkamp/raspberry-gpio-python>\n",
    "\n",
    "\n",
    "A **workaround** in production environment using RPI.GPIO is not stop GPIO.PWM, simply set DutyCycle to 0."
   ]
  },
  {
   "cell_type": "markdown",
   "id": "96e5a0ef-549d-4a5d-8d5e-57ee821bbef4",
   "metadata": {},
   "source": [
    "## Test 2 PWM\n",
    "\n",
    "Changing frequency on running program"
   ]
  },
  {
   "cell_type": "code",
   "execution_count": 1,
   "id": "4f4b1d46-c70c-49e9-a02c-c4ec1c5aedab",
   "metadata": {},
   "outputs": [
    {
     "name": "stdout",
     "output_type": "stream",
     "text": [
      "Version : 0.7.0\n",
      "Cleaned\n"
     ]
    }
   ],
   "source": [
    "import RPi.GPIO as GPIO\n",
    "import time\n",
    "\n",
    "print('Version : ' + GPIO.VERSION)\n",
    "\n",
    "servoPIN = 18\n",
    "GPIO.setmode(GPIO.BCM)\n",
    "GPIO.setup(servoPIN, GPIO.OUT)\n",
    "p = GPIO.PWM(servoPIN, 50) # GPIO 18 for PWM with 50Hz\n",
    "p.start(75) \n",
    "try:\n",
    "    p.ChangeFrequency(10)\n",
    "    time.sleep(10)\n",
    "    p.ChangeFrequency(20)\n",
    "    time.sleep(10)\n",
    "    p.ChangeFrequency(30)\n",
    "    time.sleep(10)\n",
    "    p.ChangeFrequency(40)\n",
    "    time.sleep(10)\n",
    "    p.ChangeFrequency(50)\n",
    "    time.sleep(10)\n",
    "except KeyboardInterrupt:\n",
    "    None\n",
    "\n",
    "p.stop()\n",
    "GPIO.cleanup()\n",
    "print('Cleaned')"
   ]
  },
  {
   "cell_type": "markdown",
   "id": "35415375-47cc-49f9-a7d2-a0285887b007",
   "metadata": {},
   "source": [
    "**Works as expected**"
   ]
  },
  {
   "cell_type": "code",
   "execution_count": 3,
   "id": "e9ca372b-1a4a-45d7-b260-9781323e9c71",
   "metadata": {},
   "outputs": [],
   "source": [
    "import RPi.GPIO as GPIO\n",
    "import time\n",
    "\n",
    "servoPIN = 18\n",
    "GPIO.setmode(GPIO.BCM)\n",
    "GPIO.setup(servoPIN, GPIO.OUT)\n",
    "\n",
    "p = GPIO.PWM(servoPIN, 50) # GPIO 18 for PWM with 50Hz\n",
    "p.start(2.5) \n",
    "try:\n",
    "    p.ChangeDutyCycle(5)\n",
    "    time.sleep(10)\n",
    "    p.ChangeDutyCycle(20)\n",
    "    time.sleep(10)\n",
    "    p.ChangeDutyCycle(50)\n",
    "    time.sleep(10)\n",
    "    p.ChangeDutyCycle(65)\n",
    "    time.sleep(10)\n",
    "    p.ChangeDutyCycle(75)\n",
    "    time.sleep(10)\n",
    "    p.ChangeDutyCycle(90)\n",
    "    time.sleep(10)\n",
    "    p.ChangeDutyCycle(100)\n",
    "    time.sleep(10)\n",
    "except KeyboardInterrupt:\n",
    "    None\n",
    "    \n",
    "p.stop()\n",
    "GPIO.cleanup()"
   ]
  },
  {
   "cell_type": "markdown",
   "id": "841cd70d-21e6-4b38-93aa-16bda1c09138",
   "metadata": {},
   "source": [
    "### ***FINAL NOTE***\n",
    "\n",
    "The previously mentioned bug could be workarounded in production not stoping PWM,. In jupyter notebooks it's uncomfortable to develop short test with start/stop/cleanup code blocks.\n",
    "\n",
    "For the **BanRC01** I'm using Servo Kit from Adadruit with **PCA9685** so I'm not use RPI.GPIO library, so this not be a problem."
   ]
  },
  {
   "cell_type": "markdown",
   "id": "ad3567eb-e969-48f5-a136-a50a1c5f621f",
   "metadata": {},
   "source": [
    "## Using Servos\n",
    "\n",
    "General Documentation specifies times as\n",
    "<div style=\"text-align:center;\"><img src=\"images/pwm_servomotor.png\"  width=\"300\"/></div>\n",
    "\n",
    "and others as\n",
    "\n",
    "<div style=\"text-align:center;\"><img src=\"images/servo-control.png\"  width=\"300\"/></div>\n",
    "<br/>\n",
    "\n",
    "So it's neccesary calibrate and read datasheets for every motor for identify the rights duty cycles.\n",
    "\n",
    "Read about at : <https://github.com/gavinlyonsrepo/RpiMotorLib/blob/master/Documentation/Servo_RPI_GPIO.md>\n",
    "\n",
    "```\n",
    "Given a 50 Hz frequency we can calculate the required duty cycle for any pulse width. For example: We need a 1.5 ms pulse to center the servo, or a Duty Cycle = 0.0015 * 50 = 0.075 (i.e 7.5%). Similarly, 1 ms pulse (- 90 degrees or 0 degrees) requires a Duty Cycle = 0.001 * 50 = 5% 2 ms pulse (+ 90 degrees or 180), Duty Cycle = 0.002 * 50 = 10% Thus the duty cycle range should be from 5 - 10% with the center at 7.5%.\n",
    "\n",
    "Every servo is different, so you will need to calibrate it for the best performance. It was found 7.5 for center , 11 for max duty percentage or left position (180 degress) and 2 for min duty percentage or right postion (0 degrees) Check datasheet for recommend pulse width and calibrate accordingly.\n",
    "```\n",
    "\n",
    "\n",
    "Read about at : <http://www.robotplatform.com/knowledge/servo/servo_control_tutorial.html>\n",
    "\n",
    "```\n",
    "We have reached the most important and interesting section of this tutorial: Servo Control.\n",
    "\n",
    "Controlling a servo as discussed before involves sending a modulated square-wave pulse which is known as pulse-Width-Modulation (PWM) or Pulse-Duration-Modulation (PDM). If signal voltage from peak to peak (amplitude) is taken care as per the datasheet (which is generally 3V to 5V), then there two other main factors to be considered while sending a PWM signal to servo; “Frequency” and “Duty cycle”.\n",
    "\n",
    "Frequency\n",
    "\n",
    "Servo expects continuous pulses to move or hold its position. Frequency (or repetition time, or cycle time) is the number of times a positive pulse is fed to servo in a unit time (which is generally measured in seconds); for analog servos, frequency is generally 50 times a second (50Hz) and for digital servos it is 300 times a second (300Hz).\n",
    "\n",
    "50Hz = Positive pulse 50 times a second; i.e. 1/50 = 0.02 seconds = 20ms (timeout period). This means every 20 milliseconds servo expects a pulse to retain its corresponding angular position.\n",
    "\n",
    "300Hz = Positive pulse 300 times a second; i.e. 1/300 = 0.0033 seconds = 3.33ms (timeout period). This means every ~3 milliseconds servo expects a pulse to retain its corresponding angular position.\n",
    "\n",
    "If servo does not receive a pulse before the timeout period, then servo releases its hold and can move to any forced position.\n",
    "\n",
    "Note: Required pulse frequency for few servos may be less, or more depending on the particular model and manufacturer.\n",
    "\n",
    "Duty Cycle\n",
    "\n",
    "“Duty cycle” is the width of positive pulse (square wave) and a deciding factor for servo’s angular position. For example, if you have a servo with 180° turn, then 90° is the center position of the servo with 0° being minimum, and 180°, being the maximum. Now, if a positive pulse of 1.5ms is sent, then the servo stays at 90° (servo center) as long as it receives the same pulse. If another pulse of 1ms is sent, the circuit tries to move the shaft to 0°, and a pulse of 2ms tries to move the output shaft to 180°.  This means, a pulse shorter than 1.5ms moves the servo in one direction and wider than 1.5ms moves it in another direction.\n",
    "\n",
    "Different servo models have different minimum and maximum pulse requirements. For example, a Hextronik servo I have has a minimum pulse requirement of 0.5ms to move to 0° and maximum pulse duration of 2.5ms to move to 180°. Sending a pulse of 1ms moves it to 45° and 2ms moves it to 135°. Another servo requires 1ms pulse to move to 0°, 1.5ms to move to 45° and 2ms to move to 90° and maximum angular rotation being 90°. The de-facto standard is 1ms for minimal angle, 1.5ms for servo center and 2ms for maximum angle. Servo center is almost always 1.5ms and minimum and maximum should be verified in product’s datasheet.\n",
    "```\n",
    "\n",
    "\n",
    "Expressing duty as percentage of PWM for tipical case (50Hz) whe have:\n",
    "\n",
    "```\n",
    "Freq = 50Hz --> 1 cycle every 20 ms\n",
    "\n",
    "# Center (1.5 ms)\n",
    "20  ms --- 100\n",
    "1.5 ms   --- x\n",
    "\n",
    "x = 1.5*100 / 20 = 7.5%\n",
    "\n",
    "\n",
    "# Left (1 ms)\n",
    "20  ms --- 100\n",
    "1   ms   --- x\n",
    "\n",
    "x = 1*100 / 20 = 5%\n",
    "\n",
    "\n",
    "# Right (2 ms)\n",
    "20 ms --- 100\n",
    "2 ms  --- x\n",
    "\n",
    "x = 2*100 / 20 = 10%\n",
    "```\n",
    "\n",
    "\n",
    "#### **Arduino** Servo lib defines this generic limits\n",
    "\n",
    "```\n",
    "Servo - attach()\n",
    "\n",
    "Attach the Servo variable to a pin. Note that in Arduino 0016 and earlier, the Servo library supports servos on only two pins: 9 and 10.\n",
    "Syntax\n",
    "\n",
    "servo.attach(pin) \n",
    "servo.attach(pin, min, max)\n",
    "\n",
    "Parameters\n",
    "\n",
    "    servo: a variable of type Servo\n",
    "    pin: the number of the pin that the servo is attached to\n",
    "    min (optional): the pulse width, in microseconds, corresponding to the minimum (0 degree) angle on the servo (defaults to 544)\n",
    "    max (optional): the pulse width, in microseconds, corresponding to the maximum (180 degree) angle on the servo (defaults to 2400)\n",
    "\n",
    "```"
   ]
  },
  {
   "cell_type": "code",
   "execution_count": null,
   "id": "b744468e-12a3-4d76-afd6-f038e75d21bb",
   "metadata": {},
   "outputs": [],
   "source": [
    "import RPi.GPIO as GPIO\n",
    "import time\n",
    "\n",
    "print('Version : ' + GPIO.VERSION)\n",
    "\n",
    "servoPIN = 18\n",
    "GPIO.setmode(GPIO.BCM)\n",
    "GPIO.setup(servoPIN, GPIO.OUT)\n",
    "servo1 = GPIO.PWM(servoPIN, 50) # GPIO 18 for PWM with 50Hz \n",
    "\n",
    "try:\n",
    "    servo1.start(7.5)\n",
    "    print (\"Centering servo\")\n",
    "    time.sleep(2)\n",
    "except KeyboardInterrupt:\n",
    "    None\n",
    "\n",
    "servo1.stop()\n",
    "GPIO.cleanup()\n",
    "print('Cleaned')"
   ]
  },
  {
   "cell_type": "code",
   "execution_count": 2,
   "id": "ea63a351-fb79-45e8-b466-2abfff70d20d",
   "metadata": {},
   "outputs": [
    {
     "name": "stdout",
     "output_type": "stream",
     "text": [
      "Version : 0.7.0\n",
      "Waiting for 2 seconds\n",
      "Rotating 180 degrees in 10 steps\n",
      "Set Duty : 2\n",
      "Set Duty : 3\n",
      "Set Duty : 4\n",
      "Set Duty : 5\n",
      "Set Duty : 6\n",
      "Turning back to 90 degrees for 2 seconds\n",
      "Turning back to 0 degrees\n",
      "Cleaned\n"
     ]
    }
   ],
   "source": [
    "import RPi.GPIO as GPIO\n",
    "import time\n",
    "\n",
    "print('Version : ' + GPIO.VERSION)\n",
    "\n",
    "servoPIN = 18\n",
    "GPIO.setmode(GPIO.BCM)\n",
    "GPIO.setup(servoPIN, GPIO.OUT)\n",
    "servo1 = GPIO.PWM(servoPIN, 50) # GPIO 18 for PWM with 50Hz \n",
    "\n",
    "try:\n",
    "    #start PWM running, but with value of 0 (pulse off)\n",
    "    servo1.start(7.5)\n",
    "    print (\"Waiting for 2 seconds\")\n",
    "    time.sleep(2)\n",
    "\n",
    "    #Let's move the servo!\n",
    "    print (\"Rotating 180 degrees in 10 steps\")\n",
    "\n",
    "    # Define variable duty\n",
    "    duty = 2\n",
    "\n",
    "    # Loop for duty values from 2 to 12 (0 to 180 degrees)\n",
    "    while duty <= 6:\n",
    "        print('Set Duty : '+str(duty))\n",
    "        servo1.ChangeDutyCycle(duty)\n",
    "        time.sleep(0.1)\n",
    "        duty = duty + 1\n",
    "        \n",
    "    # Wait a couple of seconds\n",
    "    time.sleep(2)\n",
    "\n",
    "    # Turn back to 90 degrees\n",
    "    print (\"Turning back to 90 degrees for 2 seconds\")\n",
    "    servo1.ChangeDutyCycle(7.5)\n",
    "    time.sleep(2)\n",
    "\n",
    "    #turn back to 0 degrees\n",
    "    print (\"Turning back to 0 degrees\")\n",
    "    servo1.ChangeDutyCycle(2)\n",
    "    time.sleep(0.5)\n",
    "    servo1.ChangeDutyCycle(0)\n",
    "except KeyboardInterrupt:\n",
    "    None\n",
    "\n",
    "servo1.stop()\n",
    "GPIO.cleanup()\n",
    "print('Cleaned')"
   ]
  },
  {
   "cell_type": "code",
   "execution_count": 1,
   "id": "4fd90bfe-6901-4b74-b4c0-9838a16fca6c",
   "metadata": {},
   "outputs": [
    {
     "name": "stdout",
     "output_type": "stream",
     "text": [
      "Version : 0.7.0\n",
      "Waiting for 2 seconds\n",
      "Center\n",
      "Set Duty : 7.5\n",
      "Set Duty : 7.0\n",
      "Set Duty : 6.5\n",
      "Set Duty : 6.0\n",
      "Set Duty : 5.5\n",
      "Set Duty : 5.0\n",
      "Set Duty : 5\n",
      "Set Duty : 5.5\n",
      "Set Duty : 6.0\n",
      "Set Duty : 6.5\n",
      "Set Duty : 7.0\n",
      "Set Duty : 7.5\n",
      "Set Duty : 8.0\n",
      "Set Duty : 8.5\n",
      "Set Duty : 9.0\n",
      "Set Duty : 9.5\n",
      "Set Duty : 10.0\n",
      "Turning back to 90 degrees for 2 seconds\n",
      "Cleaned\n"
     ]
    }
   ],
   "source": [
    "import RPi.GPIO as GPIO\n",
    "import time\n",
    "\n",
    "print('Version : ' + GPIO.VERSION)\n",
    "\n",
    "servoPIN = 18\n",
    "GPIO.setmode(GPIO.BCM)\n",
    "GPIO.setup(servoPIN, GPIO.OUT)\n",
    "servo1 = GPIO.PWM(servoPIN, 50) # GPIO 18 for PWM with 50Hz \n",
    "\n",
    "try:\n",
    "    #start PWM running, but with value of 0 (pulse off)\n",
    "    servo1.start(0)\n",
    "    print (\"Waiting for 2 seconds\")\n",
    "    time.sleep(2)\n",
    "\n",
    "    #Let's move the servo!\n",
    "    print ('Center')\n",
    "    duty = 7.5\n",
    "    servo1.ChangeDutyCycle(duty)\n",
    "    time.sleep(2)\n",
    "\n",
    "    \n",
    "    # Moving to left\n",
    "    while duty >= 5:\n",
    "        print('Set Duty : '+str(duty))\n",
    "        servo1.ChangeDutyCycle(duty)\n",
    "        time.sleep(1)\n",
    "        duty = duty - 0.5\n",
    "        \n",
    "    duty = 5\n",
    "           \n",
    "    # Moving to left\n",
    "    while duty <= 10:\n",
    "        print('Set Duty : '+str(duty))\n",
    "        servo1.ChangeDutyCycle(duty)\n",
    "        time.sleep(1)\n",
    "        duty = duty + 0.5\n",
    "        \n",
    "    # Wait a couple of seconds\n",
    "    time.sleep(2)\n",
    "\n",
    "    # Turn back to 90 degrees\n",
    "    print (\"Turning back to 90 degrees for 2 seconds\")\n",
    "    servo1.ChangeDutyCycle(7.5)\n",
    "    time.sleep(2)\n",
    "except KeyboardInterrupt:\n",
    "    None\n",
    "\n",
    "servo1.stop()\n",
    "GPIO.cleanup()\n",
    "print('Cleaned')"
   ]
  },
  {
   "cell_type": "code",
   "execution_count": 1,
   "id": "1ee56cca-e7e4-47ab-af13-6cef4f7e9a96",
   "metadata": {},
   "outputs": [
    {
     "data": {
      "application/vnd.jupyter.widget-view+json": {
       "model_id": "f9372af6f33f488b844625eee1a27758",
       "version_major": 2,
       "version_minor": 0
      },
      "text/plain": [
       "VBox(children=(FloatSlider(value=0.0, description='Servo Position', layout=Layout(height='30px', width='50%'),…"
      ]
     },
     "metadata": {},
     "output_type": "display_data"
    }
   ],
   "source": [
    "import RPi.GPIO as GPIO\n",
    "import time\n",
    "import ipywidgets as widgets\n",
    "\n",
    "servoPIN = 18\n",
    "GPIO.setmode(GPIO.BCM)\n",
    "GPIO.setup(servoPIN, GPIO.OUT)\n",
    "servo1 = GPIO.PWM(servoPIN, 50) # GPIO 18 for PWM with 50Hz \n",
    "servo1.start(0)\n",
    "\n",
    "style = {'description_width': 'initial'}\n",
    "servo_duty_widget = widgets.FloatSlider(description='Servo Position', style=style, min=0, max=15, step=0.1, value=0, layout=widgets.Layout(width='50%', height='30px'))\n",
    "output = widgets.Output()\n",
    "\n",
    "def on_servo_duty_value_change(change):\n",
    "    #with output:\n",
    "        duty = change['new']\n",
    "        print('Set Duty : '+str(duty))\n",
    "        servo1.ChangeDutyCycle(duty)\n",
    "        \n",
    "servo_duty_widget.observe(on_servo_duty_value_change, names='value')\n",
    "\n",
    "engine_widget = widgets.VBox([\n",
    "    servo_duty_widget\n",
    "])\n",
    "display(engine_widget)"
   ]
  },
  {
   "cell_type": "code",
   "execution_count": null,
   "id": "8eedde78-dbd3-4d56-98c2-19f706f5b6f2",
   "metadata": {},
   "outputs": [],
   "source": [
    "servo1.stop()\n",
    "GPIO.cleanup()\n",
    "print('Cleaned')"
   ]
  }
 ],
 "metadata": {
  "kernelspec": {
   "display_name": "Python 3 (ipykernel)",
   "language": "python",
   "name": "python3"
  },
  "language_info": {
   "codemirror_mode": {
    "name": "ipython",
    "version": 3
   },
   "file_extension": ".py",
   "mimetype": "text/x-python",
   "name": "python",
   "nbconvert_exporter": "python",
   "pygments_lexer": "ipython3",
   "version": "3.7.3"
  }
 },
 "nbformat": 4,
 "nbformat_minor": 5
}
