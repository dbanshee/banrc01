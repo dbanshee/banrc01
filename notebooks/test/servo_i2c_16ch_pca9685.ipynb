{
 "cells": [
  {
   "cell_type": "markdown",
   "id": "a0bbb3f0-29f5-4558-b7be-f96ee2940464",
   "metadata": {},
   "source": [
    "# Servo/RC ESC control with RPI PWM\n",
    "\n",
    "Adafruit product page: <https://learn.adafruit.com/16-channel-pwm-servo-driver/overview>\n",
    "\n",
    "<div style=\"text-align:center;\"><img src=\"images/adafruit_products_raspi_pca9685_i2c_bb.jpg\"  width=\"300\"/></div>"
   ]
  },
  {
   "cell_type": "code",
   "execution_count": null,
   "id": "729f59b2-cc84-4531-97f2-8d266bcbfc0f",
   "metadata": {},
   "outputs": [],
   "source": [
    "!sudo apt-get install python-smbus i2c-tools\n",
    "!sudo usermod -a -G i2c banshee"
   ]
  },
  {
   "cell_type": "code",
   "execution_count": 2,
   "id": "4f91ff57-e017-4515-9512-34e0f6d45cbd",
   "metadata": {},
   "outputs": [
    {
     "name": "stdout",
     "output_type": "stream",
     "text": [
      "     0  1  2  3  4  5  6  7  8  9  a  b  c  d  e  f\n",
      "00:          -- -- -- -- -- -- -- -- -- -- -- -- -- \n",
      "10: -- -- -- -- -- -- -- -- -- -- -- -- -- -- -- -- \n",
      "20: -- -- -- -- -- -- -- -- -- -- -- -- -- -- -- -- \n",
      "30: -- -- -- -- -- -- -- -- -- -- -- -- -- -- -- -- \n",
      "40: 40 -- -- -- -- -- -- -- -- -- -- -- -- -- -- -- \n",
      "50: -- -- -- -- -- -- -- -- -- -- -- -- -- -- -- -- \n",
      "60: -- -- -- -- -- -- -- -- -- -- -- -- -- -- -- -- \n",
      "70: 70 -- -- -- -- -- -- --                         \n"
     ]
    }
   ],
   "source": [
    "!i2cdetect -y 1"
   ]
  },
  {
   "cell_type": "markdown",
   "id": "f7b3aeb1-2fe8-4dcc-8991-456ad15b3b07",
   "metadata": {},
   "source": [
    "### Documentation ServoKit: <https://github.com/adafruit/Adafruit_CircuitPython_ServoKit>\n",
    "### Documentation Extra: <https://circuitpython.readthedocs.io/projects/motor/en/latest/api.html#adafruit_motor.servo.Servo>"
   ]
  },
  {
   "cell_type": "markdown",
   "id": "82bd78c6-2d49-4a1f-9fdf-febd915c6c19",
   "metadata": {},
   "source": [
    "## Servo Control\n",
    "\n",
    "Reading in several sources, Servo controls is usually based in PWM signals of 50Hz base and a variable Duty Cycle between (1ms-2ms). But this edges can vary.\n",
    "\n",
    "```\n",
    "Duty Cycle\n",
    "\n",
    "“Duty cycle” is the width of positive pulse (square wave) and a deciding factor for servo’s angular position. For example, if you have a servo with 180° turn, then 90° is the center position of the servo with 0° being minimum, and 180°, being the maximum. Now, if a positive pulse of 1.5ms is sent, then the servo stays at 90° (servo center) as long as it receives the same pulse. If another pulse of 1ms is sent, the circuit tries to move the shaft to 0°, and a pulse of 2ms tries to move the output shaft to 180°.  This means, a pulse shorter than 1.5ms moves the servo in one direction and wider than 1.5ms moves it in another direction.\n",
    "\n",
    "Different servo models have different minimum and maximum pulse requirements. For example, a Hextronik servo I have has a minimum pulse requirement of 0.5ms to move to 0° and maximum pulse duration of 2.5ms to move to 180°. Sending a pulse of 1ms moves it to 45° and 2ms moves it to 135°. Another servo requires 1ms pulse to move to 0°, 1.5ms to move to 45° and 2ms to move to 90° and maximum angular rotation being 90°. The de-facto standard is 1ms for minimal angle, 1.5ms for servo center and 2ms for maximum angle. Servo center is almost always 1.5ms and minimum and maximum should be verified in product’s datasheet.\n",
    "```\n",
    "\n",
    "It's neccesary identify the limits for every particular servo. Based on engine docmentation if available or manually decrasing min limit or increasing max limits with little steps and checking if engine reaches the physical limit.\n"
   ]
  },
  {
   "cell_type": "code",
   "execution_count": 1,
   "id": "3b694e41-02ca-4f68-85ec-527f2f62c9a1",
   "metadata": {},
   "outputs": [],
   "source": [
    "import time\n",
    "from adafruit_servokit import ServoKit\n",
    "\n",
    "# Set channels to the number of servo channels on your kit.\n",
    "# 8 for FeatherWing, 16 for Shield/HAT/Bonnet.\n",
    "kit = ServoKit(channels=16)"
   ]
  },
  {
   "cell_type": "code",
   "execution_count": 21,
   "id": "d03469d4-c7ce-465f-9217-8cc4d78546e3",
   "metadata": {},
   "outputs": [],
   "source": [
    "kit.servo[8].angle = 0\n",
    "time.sleep(1)\n",
    "kit.servo[8].angle = 90\n",
    "time.sleep(1)\n",
    "kit.servo[8].angle = 180"
   ]
  },
  {
   "cell_type": "markdown",
   "id": "71e4b3a6-f414-42e5-8f8e-b6f9cbc14871",
   "metadata": {},
   "source": [
    "<p float=\"left\">\n",
    "  <img src=\"images/pwm_angle_0.jpg\" alt=\"angle 0\" style=\"width:30%\">\n",
    "  <img src=\"images/pwm_angle_90.jpg\" alt=\"angle 0\" style=\"width:30%\">\n",
    "  <img src=\"images/pwm_angle_180.jpg\" alt=\"angle 0\" style=\"width:30%\">\n",
    "</p>"
   ]
  },
  {
   "cell_type": "markdown",
   "id": "53f92aef-9eb7-4a4f-bd62-435cc2531aef",
   "metadata": {},
   "source": [
    "## Test Servo \n",
    "\n",
    "### Model: Carson CS-6\n",
    "\n",
    "**Specs**:\n",
    "- ball bearings \n",
    "- operating voltage 4.8 - 6 V.\n",
    "- Actuating torque 60 Ncm\n",
    "- Adjustment time 0.2 sec / 60 °\n",
    "- Dimensions: 41 x 42 x 21 mm\n",
    "- Weight 58 g\n",
    "- Graupner-J / R connector system\n",
    "\n",
    "Library:\n",
    "[Servo Kit Library Documentation](https://circuitpython.readthedocs.io/projects/motor/en/latest/api.html#adafruit_motor.servo.Servo)\n",
    "\n",
    "Servo limits has been searched and tested with values:\n",
    "```\n",
    "ACTUATION_RANGE = 180\n",
    "MIN_PULSE       = 600   (ms)\n",
    "MAX_PULSE       = 2400  (ms)\n",
    "```"
   ]
  },
  {
   "cell_type": "code",
   "execution_count": 4,
   "id": "d4991ef4-4bb0-49df-a670-1e58609d7ae2",
   "metadata": {
    "tags": []
   },
   "outputs": [
    {
     "data": {
      "application/vnd.jupyter.widget-view+json": {
       "model_id": "6a5bdb4b280a460682229ed18e369108",
       "version_major": 2,
       "version_minor": 0
      },
      "text/plain": [
       "VBox(children=(FloatSlider(value=90.0, description='Servo Position', layout=Layout(height='30px', width='50%')…"
      ]
     },
     "metadata": {},
     "output_type": "display_data"
    }
   ],
   "source": [
    "from adafruit_servokit import ServoKit\n",
    "import time\n",
    "import ipywidgets as widgets\n",
    "from traitlets import CInt, link\n",
    "\n",
    "SERVO_CHANNEL = 8\n",
    "ACTUATION_RANGE = 180\n",
    "MIN_PULSE = 600             # Default 1000\n",
    "MAX_PULSE = 2400            # Default 2000\n",
    "\n",
    "class Counter(widgets.DOMWidget):\n",
    "    #value = CInt(0, sync=True)\n",
    "    value = CInt(90)\n",
    "    \n",
    "# Value Widget to Sync Sliders and buttons\n",
    "counterServo = Counter()    \n",
    "\n",
    "# Servo Kit\n",
    "kit = ServoKit(channels=16)\n",
    "\n",
    "# Customize servo range angle\n",
    "kit.servo[SERVO_CHANNEL].actuation_range = ACTUATION_RANGE\n",
    "\n",
    "# Pulse Width range\n",
    "kit.servo[SERVO_CHANNEL].set_pulse_width_range(MIN_PULSE, MAX_PULSE)\n",
    "\n",
    "# Center Servo\n",
    "kit.servo[SERVO_CHANNEL].angle = 90\n",
    "\n",
    "# GUI\n",
    "style = {'description_width': 'initial'}\n",
    "servo_duty_widget = widgets.FloatSlider(description='Servo Position', style=style, min=0, max=180, step=1, value=90, layout=widgets.Layout(width='50%', height='30px'))\n",
    "#servo_duty_widget = widgets.FloatSlider(description='Servo Position', style=style, min=65, max=115, step=1, value=90, layout=widgets.Layout(width='50%', height='30px'))\n",
    "servo_reset_widget = widgets.Button(description='Servo Reset')\n",
    "output = widgets.Output()\n",
    "\n",
    "def on_servo_duty_value_change(change):\n",
    "    #with output:\n",
    "        angle = change['new']\n",
    "        kit.servo[SERVO_CHANNEL].angle = angle\n",
    "        counterServo.value = angle\n",
    "        print('Set Aggle : '+str(angle))\n",
    "        \n",
    "servo_duty_widget.observe(on_servo_duty_value_change, names='value')\n",
    "\n",
    "def on_reset_servo_clicked(b):\n",
    "    #with output:\n",
    "        counterServo.value = 90\n",
    "        print(\"Servo Reset.\")\n",
    "        \n",
    "servo_reset_widget.on_click(on_reset_servo_clicked) \n",
    "\n",
    "# Link Slider and counter\n",
    "link((servo_duty_widget, 'value'), (counterServo, 'value')) # Link counter al slider\n",
    "\n",
    "engine_widget = widgets.VBox([\n",
    "    servo_duty_widget,\n",
    "    servo_reset_widget\n",
    "])\n",
    "display(engine_widget)"
   ]
  },
  {
   "cell_type": "markdown",
   "id": "f87142be-5752-468a-8707-2113ff0d682c",
   "metadata": {},
   "source": [
    "## DC Engine with RC ESC\n",
    "\n",
    "Most of RC ESC (Electronic Speed Controller) are based in PWM similar used with servos.\n",
    "Exists alternative RC ESC protocolos (PPM, ...) but Tamiya TBLE 04s uses tipical PWM like Servos.\n",
    "\n",
    "- **Base Freq**: 50hz\n",
    "- **Full Reverse**: Pulses of 10ms\n",
    "- **Neutral**: Pulses of 15ms\n",
    "- **Full Throthle**: Pulses of 20ms\n",
    "\n",
    "This is de ESC input protocol. ESC_Output/DC_input is a PWM too but de Duty Cycle is proportional to Speed. Reverse inverts polarity and Neutral is a coninuous 0V signal."
   ]
  },
  {
   "cell_type": "code",
   "execution_count": 6,
   "id": "11847d3d-bf8f-4416-a9a2-179872b64ca6",
   "metadata": {},
   "outputs": [],
   "source": [
    "import time\n",
    "from adafruit_servokit import ServoKit\n",
    "\n",
    "# Set channels to the number of servo channels on your kit.\n",
    "# 8 for FeatherWing, 16 for Shield/HAT/Bonnet.\n",
    "kit = ServoKit(channels=16)"
   ]
  },
  {
   "cell_type": "code",
   "execution_count": 4,
   "id": "8c01174e-7354-44de-9c42-43ac06f85975",
   "metadata": {},
   "outputs": [],
   "source": [
    "kit.continuous_servo[8].throttle = -1\n",
    "time.sleep(1)\n",
    "kit.continuous_servo[8].throttle = 0\n",
    "time.sleep(1)\n",
    "kit.continuous_servo[8].throttle = 1"
   ]
  },
  {
   "cell_type": "markdown",
   "id": "64aa3f13-6ad6-4c1d-85f5-68a8cb122c35",
   "metadata": {},
   "source": [
    "<p float=\"left\">\n",
    "  <img src=\"images/pwm_throttle_-1.jpg\" alt=\"angle 0\" style=\"width:30%\">\n",
    "  <img src=\"images/pwm_throttle_0.jpg\" alt=\"angle 0\" style=\"width:30%\">\n",
    "  <img src=\"images/pwm_throttle_1.jpg\" alt=\"angle 0\" style=\"width:30%\">\n",
    "</p>"
   ]
  },
  {
   "cell_type": "markdown",
   "id": "fea99273-e516-497d-9a0d-d0ca9b125c8e",
   "metadata": {},
   "source": [
    "## Test DC Brushed Engine\n",
    "\n",
    "### DC Brushed Engine: **Mabuchi RS540 SH - 7525**\n",
    "### ESC: **Tamiya TBLE 04S**\n",
    "\n",
    "ESC operates at **7V** with a Battery *Cut-Off*. This test is powered with one Standard PC Power Supply. Taking energy from 5V and 12V (stepped down to 7.1V using **AZDelivery XL4016E1** Converter)\n",
    "\n",
    "Current can be limited too on XL4016E1. Not limiting (or too high limit) causes the PU switch off when the engine demmands full energy. ESC limit is higher than PU capacity. Setting a limit too low at XL4016E1, causes the engine stops safety (dead zones appears in the scroll bar). (Measuring with polymeter at XL4016E1 output, we can see voltaje decreases while current increase)\n",
    "\n",
    "#### **Calibration**\n",
    "It's necesary calibrate the ESC to adapt the PWM generated by the controller (or RC receptor)\n",
    "\n",
    "1. Start the system with the ESC Switch OFF. ESC beeps and green blink until a PWM is received.\n",
    "2. Init the test. It generates a PWM. ESC stops beeps.\n",
    "3. With ESC button pressed, switch ON. Led starts blinkin and repeat (RED-GREEN-ORANGE). When led are RED release the button. Now led blinks RED.\n",
    "4. Generate PWM for full throttle and press-release the button.\n",
    "5. Generate PWM for full reverse and press-release the button.\n",
    "6. Done. ESC has been calibrated.\n",
    "\n",
    "**Reverse** can be enabled/disabled with the steps 1-3."
   ]
  },
  {
   "cell_type": "markdown",
   "id": "4bdc777a-9e7d-426a-8ce5-bbcd5a7ee727",
   "metadata": {},
   "source": [
    "### **WARNING**\n",
    "Measuring Voltage on 3-wire PWM output of ESC is 5.9V. This propagates to **PCA9685** and to **RPI/Jetson**\n",
    "It can be use a Voltage limiter or simpli don't connect red wire. With only GND+Data the system works."
   ]
  },
  {
   "cell_type": "code",
   "execution_count": 1,
   "id": "822437af-485f-45d2-ab3c-3d15dabc1142",
   "metadata": {},
   "outputs": [
    {
     "data": {
      "application/vnd.jupyter.widget-view+json": {
       "model_id": "1f902acd429f49749c386565c584eb81",
       "version_major": 2,
       "version_minor": 0
      },
      "text/plain": [
       "VBox(children=(FloatSlider(value=0.0, description='DC Speed', layout=Layout(height='30px', width='50%'), max=1…"
      ]
     },
     "metadata": {},
     "output_type": "display_data"
    }
   ],
   "source": [
    "from adafruit_servokit import ServoKit\n",
    "import time\n",
    "import ipywidgets as widgets\n",
    "from traitlets import CInt, link, CFloat\n",
    "\n",
    "SERVO_CHANNEL = 9\n",
    "\n",
    "class Counter(widgets.DOMWidget):\n",
    "    value = CFloat(0)\n",
    "    \n",
    "# Value Widget to Sync Sliders and buttons\n",
    "counter = Counter()    \n",
    "\n",
    "# Servo Kit\n",
    "kit = ServoKit(channels=16)\n",
    "\n",
    "# Set Neutral\n",
    "kit.continuous_servo[SERVO_CHANNEL].throttle = 0\n",
    "\n",
    "# GUI\n",
    "style = {'description_width': 'initial'}\n",
    "dc_speed_widget = widgets.FloatSlider(description='DC Speed', style=style, min=-1, max=1, step=0.01, value=0, layout=widgets.Layout(width='50%', height='30px'))\n",
    "dc_reset_widget = widgets.Button(description='DC Reset')\n",
    "output = widgets.Output()\n",
    "\n",
    "def on_dc_speed_value_change(change):\n",
    "    #with output:\n",
    "        speed = change['new']\n",
    "        kit.continuous_servo[SERVO_CHANNEL].throttle = speed\n",
    "        counter.value = speed\n",
    "        #print('Set Speed : '+str(speed))\n",
    "        \n",
    "dc_speed_widget.observe(on_dc_speed_value_change, names='value')\n",
    "\n",
    "def on_dc_reset_clicked(b):\n",
    "    #with output:\n",
    "        counter.value = 0\n",
    "        print(\"Speed Reset.\")\n",
    "        \n",
    "dc_reset_widget.on_click(on_dc_reset_clicked) \n",
    "\n",
    "# Link Slider and counter\n",
    "link((dc_speed_widget, 'value'), (counter, 'value')) # Link counter al slider\n",
    "\n",
    "engine_widget = widgets.VBox([\n",
    "    dc_speed_widget,\n",
    "    dc_reset_widget\n",
    "])\n",
    "display(engine_widget)"
   ]
  },
  {
   "cell_type": "markdown",
   "id": "c87bf2b8-3ed1-482f-ac8c-f436f975b44b",
   "metadata": {},
   "source": [
    "## **BANRC01** - Test Bank\n",
    "\n",
    "<div style=\"text-align:center;\"><img src=\"images/banrc01_testbank.jpg\"  width=\"800\"/></div>"
   ]
  },
  {
   "cell_type": "markdown",
   "id": "ad01976d-1e5d-4dad-8429-626df76a56f6",
   "metadata": {},
   "source": [
    "#### DC Engine PWM Input\n",
    "Voltage Signal readed from the DC Engine input at diferent throthle levels (not the PWM sended to ESC)."
   ]
  },
  {
   "cell_type": "markdown",
   "id": "f985efbd-f923-4313-94aa-2b38b0ed9f9e",
   "metadata": {},
   "source": [
    "<table>\n",
    "    <tr>\n",
    "        <th>\n",
    "            <span>throttle: 0.0</span>\n",
    "            <img src=\"images/DC-00.jpg\" alt=\"angle 0\" style=\"width:30%\">\n",
    "            <span>throttle: 0.02</span>\n",
    "            <img src=\"images/DC-02.jpg\" alt=\"angle 0\" style=\"width:30%\">\n",
    "        </th>\n",
    "    </tr>\n",
    "    <tr>\n",
    "        <th>\n",
    "            <span>throttle: 0.04</span>\n",
    "            <img src=\"images/DC-04.jpg\" alt=\"angle 0\" style=\"width:30%\">\n",
    "            <span>throttle: 0.06</span>\n",
    "            <img src=\"images/DC-06.jpg\" alt=\"angle 0\" style=\"width:30%\">\n",
    "        </th>\n",
    "    </tr>\n",
    "    <tr>\n",
    "        <th>\n",
    "            <span>throttle: 0.08</span>\n",
    "            <img src=\"images/DC-08.jpg\" alt=\"angle 0\" style=\"width:30%\">\n",
    "            <span>throttle: 0.10</span>\n",
    "            <img src=\"images/DC-10.jpg\" alt=\"angle 0\" style=\"width:30%\">\n",
    "        </th>\n",
    "    </tr>\n",
    "    <tr>\n",
    "        <th>\n",
    "            <span>throttle: 0.12</span>\n",
    "            <img src=\"images/DC-12.jpg\" alt=\"angle 0\" style=\"width:30%\">\n",
    "            <span>throttle: 0.14</span>\n",
    "            <img src=\"images/DC-14.jpg\" alt=\"angle 0\" style=\"width:30%\">\n",
    "        </th>\n",
    "    </tr>\n",
    "    <tr>\n",
    "        <th>\n",
    "            <span>throttle: 0.16</span>\n",
    "            <img src=\"images/DC-16.jpg\" alt=\"angle 0\" style=\"width:30%\">\n",
    "        </th>\n",
    "    </tr>\n",
    "</table>"
   ]
  },
  {
   "cell_type": "markdown",
   "id": "ef937916-0738-497a-88f3-8f72008274ae",
   "metadata": {},
   "source": [
    "### Funny simulation of F1 start"
   ]
  },
  {
   "cell_type": "code",
   "execution_count": 1,
   "id": "2cb478ae-5c0d-479a-850b-14e35f4793f7",
   "metadata": {},
   "outputs": [
    {
     "name": "stdout",
     "output_type": "stream",
     "text": [
      "Gear: 0\n",
      "Gear: 1\n",
      "Gear: 2\n",
      "Gear: 3\n",
      "Gear: 4\n",
      "Gear: 5\n",
      "Gear: 6\n",
      "Gear: 7\n",
      "Gear: 8\n",
      "Gear: 9\n",
      "Gear: 0\n",
      "Gear: 1\n",
      "Gear: 2\n",
      "Gear: 3\n",
      "Gear: 4\n",
      "Gear: 5\n",
      "Gear: 6\n",
      "Gear: 7\n",
      "Gear: 8\n",
      "Gear: 9\n"
     ]
    }
   ],
   "source": [
    "from adafruit_servokit import ServoKit\n",
    "import time\n",
    "\n",
    "SERVO_CHANNEL = 9\n",
    "\n",
    "# Servo Kit\n",
    "kit = ServoKit(channels=16)\n",
    "\n",
    "# Set Neutral\n",
    "kit.continuous_servo[SERVO_CHANNEL].throttle = 0\n",
    "\n",
    "throttle = 0\n",
    "step = 0.01\n",
    "time_step_acc = 0.01\n",
    "time_step_gain_gear = 0.3\n",
    "time_step_dec = 0.005\n",
    "time_step_pit = 0.04\n",
    "\n",
    "max_throttle = 0.7\n",
    "min_throttle = 0.08\n",
    "start_throttle = 0.3\n",
    "gears = 10\n",
    "\n",
    "def setThrotlle(t):\n",
    "    global throttle\n",
    "    throttle = t\n",
    "    kit.continuous_servo[SERVO_CHANNEL].throttle = throttle\n",
    "    #print('Throttle : {:.5f}'.format(throttle))\n",
    "\n",
    "try:\n",
    "    # Start Engine\n",
    "    setThrotlle(min_throttle)\n",
    "    time.sleep(3)\n",
    "    setThrotlle(start_throttle)\n",
    "    time.sleep(2)\n",
    "    setThrotlle(min_throttle)\n",
    "    time.sleep(1)\n",
    "    \n",
    "    # Gears up\n",
    "    min_throttle_thres = min_throttle\n",
    "    for g in range(0, gears):\n",
    "        print('Gear: {}'.format(g))\n",
    "        while(throttle <= max_throttle):\n",
    "            setThrotlle(throttle + step)\n",
    "            time.sleep(time_step_acc)\n",
    "            \n",
    "        #print('time_step_acc : {:.5f}'.format(time_step_acc))\n",
    "        time_step_acc = time_step_acc + (time_step_acc * time_step_gain_gear)\n",
    "        if(g < gears):\n",
    "            setThrotlle(min_throttle_thres)\n",
    "            min_throttle_thres = min(min_throttle_thres * 1.4, max_throttle * 0.5)\n",
    "\n",
    "    # Gears down\n",
    "    for g in range(0, gears):\n",
    "        print('Gear: {}'.format(g))\n",
    "        while(throttle >= min_throttle):\n",
    "            setThrotlle(throttle - step)\n",
    "            time.sleep(time_step_dec)\n",
    "        setThrotlle(max_throttle)\n",
    "      \n",
    "    # Pit Enter\n",
    "    setThrotlle(min_throttle)\n",
    "    time.sleep(5)\n",
    "    while(throttle >= 0):\n",
    "        setThrotlle(throttle - step)\n",
    "        time.sleep(time_step_pit)\n",
    "        \n",
    "    setThrotlle(0)\n",
    "except KeyboardInterrupt:\n",
    "    setThrotlle(0)"
   ]
  },
  {
   "cell_type": "code",
   "execution_count": 14,
   "id": "4dcc4c6b-7de7-42f4-9731-f36138ee7c5e",
   "metadata": {},
   "outputs": [
    {
     "name": "stdout",
     "output_type": "stream",
     "text": [
      "Throttle : 0.00000\n"
     ]
    }
   ],
   "source": [
    "setThrotlle(0)"
   ]
  },
  {
   "cell_type": "markdown",
   "id": "cafbe0a1-8bb1-4e47-8b13-6b1ebc2c98d4",
   "metadata": {},
   "source": [
    "## DC Engine Current Consumption"
   ]
  },
  {
   "cell_type": "code",
   "execution_count": 35,
   "id": "39760669-b998-4ce4-b75b-4d818a182914",
   "metadata": {},
   "outputs": [],
   "source": [
    "from adafruit_servokit import ServoKit\n",
    "import time\n",
    "\n",
    "SERVO_CHANNEL = 9\n",
    "\n",
    "# Servo Kit\n",
    "kit = ServoKit(channels=16)\n",
    "\n",
    "# Set Neutral\n",
    "kit.continuous_servo[SERVO_CHANNEL].throttle = 0\n",
    "\n",
    "start=0.3\n",
    "fromT=0\n",
    "toT=0.8\n",
    "\n",
    "try:\n",
    "    kit.continuous_servo[SERVO_CHANNEL].throttle = 0.3\n",
    "    time.sleep(0.5)\n",
    "    #kit.continuous_servo[SERVO_CHANNEL].throttle = fromT\n",
    "    #time.sleep(5)\n",
    "    kit.continuous_servo[SERVO_CHANNEL].throttle = toT\n",
    "    time.sleep(5)\n",
    "    kit.continuous_servo[SERVO_CHANNEL].throttle = 0\n",
    "except KeyboardInterrupt:\n",
    "    kit.continuous_servo[SERVO_CHANNEL].throttle = 0"
   ]
  },
  {
   "cell_type": "markdown",
   "id": "0532881d-7672-4bc3-a7e2-73958c0d264f",
   "metadata": {},
   "source": [
    "#### Current with Empty Load\n",
    "\n",
    "|start-end % | Max Peak      | Stationary |\n",
    "|------      |---------------|------------|\n",
    "| 0-0.1      | 0.781 A       | 0.578 A    |\n",
    "| 0-0.2      |  1.259 A      | 0.889 A    |\n",
    "| 0-0.3      |  2.324 A      | 0.97  A    |\n",
    "| 0-0.4      |  2.327 A      | 1.094 A    |\n",
    "| 0-0.5      |  2.836 A      | 1.199 A    |\n",
    "| 0-0.6      |   -           | 1.734 A    |\n",
    "| 0-0.7      |   -           | 1.923 A    |\n",
    "| 0-0.8      |   -           | 2.036 A    |\n",
    "\n",
    "From 0-0.6 the DC-DC (i assumme) can not provide enought current peak (AZDelivery Documentation specifies **4A** Max). In practice shuldn't exist this intervals, approaching to the final value progressive. \n",
    "If this situation ocurred, we can delegate the power delivery to al algorithm that manages in steps."
   ]
  }
 ],
 "metadata": {
  "kernelspec": {
   "display_name": "Python 3 (ipykernel)",
   "language": "python",
   "name": "python3"
  },
  "language_info": {
   "codemirror_mode": {
    "name": "ipython",
    "version": 3
   },
   "file_extension": ".py",
   "mimetype": "text/x-python",
   "name": "python",
   "nbconvert_exporter": "python",
   "pygments_lexer": "ipython3",
   "version": "3.7.3"
  }
 },
 "nbformat": 4,
 "nbformat_minor": 5
}
